{
  "cells": [
    {
      "cell_type": "markdown",
      "metadata": {
        "id": "view-in-github",
        "colab_type": "text"
      },
      "source": [
        "<a href=\"https://colab.research.google.com/github/Ashwinikh297/R.Discriptive-Statistics/blob/main/Principal_Component_Analysis(PCA).ipynb\" target=\"_parent\"><img src=\"https://colab.research.google.com/assets/colab-badge.svg\" alt=\"Open In Colab\"/></a>"
      ]
    },
    {
      "cell_type": "markdown",
      "metadata": {
        "id": "rjODnXcEhGCF"
      },
      "source": [
        "# Learning to implement PCA in python\n",
        "\n",
        "$\\textbf{Mantadory}$ steps to PCA in python are:\n",
        "\n",
        "1. Load dataset. If data set is not standardize then first standardize the data set.\n",
        "2. Use scikit learn to use built in PCA function\n",
        "3. Pass number of principal components required for given data set to the PCA function in Scikit learn\n",
        "4. Fit the function to the data set\n",
        "5. Transform the data\n",
        "\n",
        "$\\textbf{Additional}$ functionality PCA function in scikit learn  are:\n",
        "\n",
        "1. Printing principal components\n",
        "2. Scree plot to identify right number of PC's that describe the dataset by looking at cumulative explained variance ratio\n",
        "3. Biplot to determine impact of each featur on PC\n",
        "\n",
        "\n"
      ]
    },
    {
      "cell_type": "markdown",
      "metadata": {
        "id": "2oTW42BXhGCN"
      },
      "source": [
        "$\\textbf{Loading libraries}$"
      ]
    },
    {
      "cell_type": "code",
      "execution_count": 1,
      "metadata": {
        "scrolled": true,
        "id": "k-izdO9JhGCN"
      },
      "outputs": [],
      "source": [
        "import numpy as np\n",
        "import pandas as pd\n",
        "import matplotlib.pyplot as plt\n",
        "from sklearn.decomposition import PCA"
      ]
    },
    {
      "cell_type": "markdown",
      "metadata": {
        "id": "sat33bHQhGCP"
      },
      "source": [
        "$\\textbf{Loading data set. The following code will generate random data set of size (10 x 5). The data set can be loaded\n",
        "using pandas.}$"
      ]
    },
    {
      "cell_type": "code",
      "execution_count": 2,
      "metadata": {
        "scrolled": true,
        "colab": {
          "base_uri": "https://localhost:8080/"
        },
        "id": "_wKldzqUhGCQ",
        "outputId": "e02a06bc-1596-4ee0-877a-e4dfdac8b2af"
      },
      "outputs": [
        {
          "output_type": "stream",
          "name": "stdout",
          "text": [
            "       var1      var2      var3      var4      var5\n",
            "0  2.259136  3.753563 -0.149401 -3.614351  3.708648\n",
            "1  2.328552 -2.759336 -0.351674 -4.747690 -1.961929\n",
            "2 -1.203533 -1.799902  0.130313 -1.595271 -0.258359\n",
            "3  2.535672 -0.693989  0.331415 -6.040715  2.181062\n",
            "4 -1.287769 -0.134705 -0.430921 -0.401974 -1.445642\n",
            "5 -2.224947  4.710841 -0.792366  7.498643 -0.398391\n",
            "6  3.208173 -0.418466  0.359408 -2.379681  0.503774\n",
            "7 -2.051416 -0.132853  0.272018 -2.937138  2.608327\n",
            "8 -2.471013  3.028895 -0.895515  5.706027 -1.566707\n",
            "9  3.394608  3.857097 -0.671879 -2.934926  1.243725\n"
          ]
        }
      ],
      "source": [
        "data = np.dot(np.random.randn(5, 5), np.random.randn(5, 10)).T\n",
        "data = pd.DataFrame(data)\n",
        "data.columns  = ['var1', 'var2', 'var3', 'var4', 'var5']\n",
        "print(data)"
      ]
    },
    {
      "cell_type": "markdown",
      "metadata": {
        "id": "g0WmsMW4hGCR"
      },
      "source": [
        "$\\textbf{Fitting and tranforming the data set into desired number of dimensionas by controlling the paramter\n",
        "n_components}$\n",
        "\n",
        "Important functions corresponding to implementation of PCA are:\n",
        "\n",
        "1. Fit : fits the data to the required number of PCs\n",
        "2. Transform: transform the data along PCs discovered"
      ]
    },
    {
      "cell_type": "code",
      "execution_count": 3,
      "metadata": {
        "scrolled": true,
        "colab": {
          "base_uri": "https://localhost:8080/"
        },
        "id": "MhoHZfqLhGCR",
        "outputId": "a24b106d-50f5-4885-bacb-6bf4f9d20563"
      },
      "outputs": [
        {
          "output_type": "stream",
          "name": "stdout",
          "text": [
            "(10, 4)\n"
          ]
        }
      ],
      "source": [
        "pca = PCA(n_components=4) # it will transform the existing data set into new dimensioans called PCs\n",
        "pca.fit(data) \n",
        "data_new = pca.transform(data)\n",
        "print(data_new.shape)"
      ]
    },
    {
      "cell_type": "markdown",
      "metadata": {
        "id": "9iZnEIZwhGCS"
      },
      "source": [
        "$\\textbf{Examining PCs and the variance expained by them}$\n",
        "\n",
        "Important functions corresponding to PCA in scikit learn are:\n",
        "\n",
        "1. components_  : gives PCs for given data set\n",
        "2. explaiined_variance_ratio: Explains variance explained by each PC\n",
        "\n"
      ]
    },
    {
      "cell_type": "code",
      "execution_count": 4,
      "metadata": {
        "scrolled": true,
        "colab": {
          "base_uri": "https://localhost:8080/"
        },
        "id": "fkTvXnWphGCT",
        "outputId": "a682963a-87fe-49df-825d-05c1f27005a5"
      },
      "outputs": [
        {
          "output_type": "stream",
          "name": "stdout",
          "text": [
            "[71.01591381 19.80104053  7.89059968  1.27679442]\n",
            "Printing the relation of PCs and variables present in the data set\n",
            "................................................................\n",
            "          0         1         2         3         4\n",
            "0 -0.364178  0.312688 -0.066818  0.859396 -0.163017\n",
            "1  0.374118  0.778641 -0.028215 -0.031750  0.501947\n",
            "2 -0.751815 -0.043797  0.114664 -0.175443  0.623641\n",
            "3  0.394221 -0.481566  0.375158  0.467010  0.503827\n",
            "..................................................\n",
            "The linear equations of Principal components are: \n",
            "..................................................\n",
            "PC1=-0.36*var1+0.31*var2+-0.07*var3+0.86*var4+-0.16*var5\n",
            "PC2=0.37*var1+0.78*var2+-0.03*var3+-0.03*var4+0.5*var5\n",
            "PC3=-0.75*var1+-0.04*var2+0.11*var3+-0.18*var4+0.62*var5\n",
            "PC4=0.39*var1+-0.48*var2+0.38*var3+0.47*var4+0.5*var5\n"
          ]
        }
      ],
      "source": [
        "print(pca.explained_variance_ratio_ *100) # It will print variance explained by each PC\n",
        "\n",
        "print('Printing the relation of PC''s and variables present in the data set')\n",
        "print(\"................................................................\")\n",
        "\n",
        "All_PCs = pd.DataFrame(pca.components_)\n",
        "print(All_PCs)\n",
        "\n",
        "All_PCs.columns  = ['var1', 'var2', 'var3', 'var4', 'var5']\n",
        "index1 = ['PC1', 'PC2', 'PC3', 'PC4']\n",
        "All_PCs = pd.DataFrame(All_PCs)\n",
        "All_PCs.index= index1\n",
        "\n",
        "\n",
        "print(\"..................................................\")\n",
        "print(\"The linear equations of Principal components are: \")\n",
        "print(\"..................................................\")\n",
        "print('PC1' + '=' + str(np.round(All_PCs.iloc[0,0],2)) + '*' + 'var1' +  '+' + str(np.round(All_PCs.iloc[0,1],2)) + '*' + 'var2' + '+' +  str(np.round(All_PCs.iloc[0,2],2)) + '*' + 'var3' + '+' + str(np.round(All_PCs.iloc[0,3],2)) + '*' + 'var4' +  '+' + str(np.round(All_PCs.iloc[0,4],2)) + '*' + 'var5')\n",
        "\n",
        "print('PC2' + '=' + str(np.round(All_PCs.iloc[1,0],2)) + '*' + 'var1' +  '+' + str(np.round(All_PCs.iloc[1,1],2)) + '*' + 'var2' + '+' +  str(np.round(All_PCs.iloc[1,2],2)) + '*' + 'var3' + '+' + str(np.round(All_PCs.iloc[1,3],2)) + '*' + 'var4' +  '+' + str(np.round(All_PCs.iloc[1,4],2)) + '*' + 'var5')\n",
        "print('PC3' + '=' + str(np.round(All_PCs.iloc[2,0],2)) + '*' + 'var1' +  '+' + str(np.round(All_PCs.iloc[2,1],2)) + '*' + 'var2' + '+' +  str(np.round(All_PCs.iloc[2,2],2)) + '*' + 'var3' + '+' + str(np.round(All_PCs.iloc[2,3],2)) + '*' + 'var4' +  '+' + str(np.round(All_PCs.iloc[2,4],2)) + '*' + 'var5')\n",
        "print('PC4' + '=' + str(np.round(All_PCs.iloc[3,0],2)) + '*' + 'var1' +  '+' + str(np.round(All_PCs.iloc[3,1],2)) + '*' + 'var2' + '+' +  str(np.round(All_PCs.iloc[3,2],2)) + '*' + 'var3' + '+' + str(np.round(All_PCs.iloc[3,3],2)) + '*' + 'var4' +  '+' + str(np.round(All_PCs.iloc[3,4],2)) + '*' + 'var5')\n",
        "\n"
      ]
    },
    {
      "cell_type": "markdown",
      "metadata": {
        "id": "2zHW0efQhGCU"
      },
      "source": [
        "$\\textbf{Identifying best number of principal components based on variance explained by them using scree plot}$"
      ]
    },
    {
      "cell_type": "code",
      "execution_count": 5,
      "metadata": {
        "scrolled": true,
        "colab": {
          "base_uri": "https://localhost:8080/",
          "height": 313
        },
        "id": "DwcMYOBYhGCV",
        "outputId": "16b6020c-1e72-4868-c38d-a233ece3b84b"
      },
      "outputs": [
        {
          "output_type": "execute_result",
          "data": {
            "text/plain": [
              "Text(0.5, 1.0, 'Scree plot')"
            ]
          },
          "metadata": {},
          "execution_count": 5
        },
        {
          "output_type": "display_data",
          "data": {
            "text/plain": [
              "<Figure size 432x288 with 1 Axes>"
            ],
            "image/png": "[encoded data removed]"
          },
          "metadata": {
            "needs_background": "light"
          }
        }
      ],
      "source": [
        "Variance_Explaied=np.cumsum(np.round(pca.explained_variance_ratio_, decimals=4)*100) # cummilative variance\n",
        "plt.plot(Variance_Explaied)\n",
        "plt.xlabel('number of components')\n",
        "plt.ylabel('cumulative explained variance')\n",
        "plt.title('Scree plot')"
      ]
    },
    {
      "cell_type": "markdown",
      "metadata": {
        "id": "KVxPRCBWhGCW"
      },
      "source": [
        "$\\textbf{Plotting Biplot}$ \n",
        "\n",
        "Biplot is a visual representation that shows the contribution of different features on principal components. \n"
      ]
    },
    {
      "cell_type": "code",
      "execution_count": 6,
      "metadata": {
        "scrolled": true,
        "colab": {
          "base_uri": "https://localhost:8080/",
          "height": 289
        },
        "id": "Od82AOL1hGCW",
        "outputId": "17720f64-73db-4e96-a6d0-763254bf3329"
      },
      "outputs": [
        {
          "output_type": "display_data",
          "data": {
            "text/plain": [
              "<Figure size 432x288 with 1 Axes>"
            ],
            "image/png": "[encoded data removed]"
          },
          "metadata": {
            "needs_background": "light"
          }
        }
      ],
      "source": [
        "PC1 = All_PCs.iloc[0]\n",
        "PC2 = All_PCs.iloc[1]\n",
        "\n",
        "xs =data_new[:,0]\n",
        "ys = data_new[:,1]\n",
        "\n",
        "for i in range(len(PC1)):\n",
        "    plt.arrow(0, 0, PC1[i]*max(xs), PC2[i]*max(ys),\n",
        "              color='r', width=0.0005, head_width=0.0025)\n",
        "    plt.text(PC1[i]*max(xs)*1.1, PC2[i]*max(ys)*1.1,\n",
        "             list(data.columns.values)[i], color='r')\n",
        "    \n",
        "for i in range(len(xs)):\n",
        "# circles project documents (ie rows from csv) as points onto PC axes\n",
        "    plt.plot(xs[i], ys[i], 'bo')\n",
        "    plt.text(xs[i]*1.1, ys[i]*1.1, list(data.index)[i], color='b')    \n",
        "    \n",
        "plt.xlabel('PC1')\n",
        "plt.ylabel('PC2')\n",
        "plt.show()"
      ]
    },
    {
      "cell_type": "code",
      "execution_count": null,
      "metadata": {
        "scrolled": true,
        "id": "5p92aKWvhGCX"
      },
      "outputs": [],
      "source": [
        ""
      ]
    }
  ],
  "metadata": {
    "kernelspec": {
      "display_name": "Python 3",
      "language": "python",
      "name": "python3"
    },
    "language_info": {
      "codemirror_mode": {
        "name": "ipython",
        "version": 3
      },
      "file_extension": ".py",
      "mimetype": "text/x-python",
      "name": "python",
      "nbconvert_exporter": "python",
      "pygments_lexer": "ipython3",
      "version": "3.6.5"
    },
    "colab": {
      "name": "Principal Component Analysis(PCA).ipynb",
      "provenance": [],
      "include_colab_link": true
    }
  },
  "nbformat": 4,
  "nbformat_minor": 0
}