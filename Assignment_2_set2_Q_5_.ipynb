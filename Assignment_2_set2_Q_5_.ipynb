{
  "nbformat": 4,
  "nbformat_minor": 0,
  "metadata": {
    "colab": {
      "name": "Assignment 2 set2 Q.5 .ipynb",
      "provenance": [],
      "authorship_tag": "ABX9TyNpJhxxemFszqTLV1efJZOS",
      "include_colab_link": true
    },
    "kernelspec": {
      "name": "python3",
      "display_name": "Python 3"
    },
    "language_info": {
      "name": "python"
    }
  },
  "cells": [
    {
      "cell_type": "markdown",
      "metadata": {
        "id": "view-in-github",
        "colab_type": "text"
      },
      "source": [
        "<a href=\"https://colab.research.google.com/github/Ashwinikh297/R.Discriptive-Statistics/blob/main/Assignment_2_set2_Q_5_.ipynb\" target=\"_parent\"><img src=\"https://colab.research.google.com/assets/colab-badge.svg\" alt=\"Open In Colab\"/></a>"
      ]
    },
    {
      "cell_type": "code",
      "source": [
        "import numpy as np \n",
        "import scipy.stats as norm\n",
        "from scipy import stats"
      ],
      "metadata": {
        "id": "qtatNVJ2GGou"
      },
      "execution_count": 10,
      "outputs": []
    },
    {
      "cell_type": "code",
      "execution_count": 11,
      "metadata": {
        "colab": {
          "base_uri": "https://localhost:8080/"
        },
        "id": "nXZVC-kNEIXu",
        "outputId": "9c9fd4a2-935f-4e77-ba8b-d1e2cbdc0b2f"
      },
      "outputs": [
        {
          "output_type": "stream",
          "name": "stdout",
          "text": [
            "Mean profit is Rs 540 Million\n"
          ]
        }
      ],
      "source": [
        "# Mean profit from two different divisions of a company = mean1+ mean2\n",
        "mean=5+7\n",
        "print('Mean profit is Rs', mean*45,'Million')"
      ]
    },
    {
      "cell_type": "code",
      "source": [
        "# Varience of profit from two different divisions of company = SD^2=SD1^2+SD2^2\n",
        "SD=np.sqrt((9)+(16))\n",
        "print('standard deviation in Rs',SD*45,'Million')"
      ],
      "metadata": {
        "colab": {
          "base_uri": "https://localhost:8080/"
        },
        "id": "X5SCFek7E-YL",
        "outputId": "b1eaf34a-aaba-4d0d-e94f-44059449e55b"
      },
      "execution_count": 12,
      "outputs": [
        {
          "output_type": "stream",
          "name": "stdout",
          "text": [
            "standard deviation in Rs 225.0 Million\n"
          ]
        }
      ]
    },
    {
      "cell_type": "code",
      "source": [
        "#A.\tSpecify a Rupee range (centered on the mean) such that it contains 95% probability for the annual profit of the company\n",
        "print('Range is Rs',(stats.norm.interval(0.95,540,225)),'in millions')"
      ],
      "metadata": {
        "colab": {
          "base_uri": "https://localhost:8080/"
        },
        "id": "16pdPzkVGS0H",
        "outputId": "863096d8-6e35-4053-c1e7-0263b8063bba"
      },
      "execution_count": 14,
      "outputs": [
        {
          "output_type": "stream",
          "name": "stdout",
          "text": [
            "Range is Rs (99.00810347848784, 980.9918965215122) in millions\n"
          ]
        }
      ]
    },
    {
      "cell_type": "code",
      "source": [
        "#B.\tSpecify the 5th percentile of profit (in Rupees) for the company\n",
        "# To compute 5th percentile , from z table , 5th percentile=-1.645\n",
        "x=540+(-1.645)*(225)\n",
        "print('5th percentile of profit(in Million Rupees),is',np.round(x,))"
      ],
      "metadata": {
        "colab": {
          "base_uri": "https://localhost:8080/"
        },
        "id": "2P1ucfXvHMjv",
        "outputId": "695602df-4511-4d29-b57b-721a6172765b"
      },
      "execution_count": 17,
      "outputs": [
        {
          "output_type": "stream",
          "name": "stdout",
          "text": [
            "5th percentile of profit(in Million Rupees),is 170.0\n"
          ]
        }
      ]
    }
  ]
}