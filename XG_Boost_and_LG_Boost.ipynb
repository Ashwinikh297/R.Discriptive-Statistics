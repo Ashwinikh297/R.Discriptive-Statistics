{
  "nbformat": 4,
  "nbformat_minor": 0,
  "metadata": {
    "colab": {
      "name": "XG Boost and LG Boost.ipynb",
      "provenance": [],
      "authorship_tag": "ABX9TyPkoVTMaOnjI6VzGAxz4fxB",
      "include_colab_link": true
    },
    "kernelspec": {
      "name": "python3",
      "display_name": "Python 3"
    },
    "language_info": {
      "name": "python"
    }
  },
  "cells": [
    {
      "cell_type": "markdown",
      "metadata": {
        "id": "view-in-github",
        "colab_type": "text"
      },
      "source": [
        "<a href=\"https://colab.research.google.com/github/Ashwinikh297/R.Discriptive-Statistics/blob/main/XG_Boost_and_LG_Boost.ipynb\" target=\"_parent\"><img src=\"https://colab.research.google.com/assets/colab-badge.svg\" alt=\"Open In Colab\"/></a>"
      ]
    },
    {
      "cell_type": "code",
      "execution_count": 2,
      "metadata": {
        "colab": {
          "base_uri": "https://localhost:8080/"
        },
        "id": "8MvpHAGIk5fr",
        "outputId": "72067b5a-ed3c-4062-ee95-39ddce0c0edd"
      },
      "outputs": [
        {
          "output_type": "stream",
          "name": "stdout",
          "text": [
            "Looking in indexes: https://pypi.org/simple, https://us-python.pkg.dev/colab-wheels/public/simple/\n",
            "Requirement already satisfied: xgboost in /usr/local/lib/python3.7/dist-packages (0.90)\n",
            "Requirement already satisfied: scipy in /usr/local/lib/python3.7/dist-packages (from xgboost) (1.7.3)\n",
            "Requirement already satisfied: numpy in /usr/local/lib/python3.7/dist-packages (from xgboost) (1.21.6)\n"
          ]
        }
      ],
      "source": [
        "!pip install xgboost"
      ]
    },
    {
      "cell_type": "code",
      "source": [
        "# first xgboost model from pima indians data sets\n",
        "from numpy import loadtxt\n",
        "from xgboost import XGBClassifier\n",
        "from sklearn.model_selection import train_test_split\n",
        "from sklearn.metrics import accuracy_score"
      ],
      "metadata": {
        "id": "E4hpeA-NlP9o"
      },
      "execution_count": 4,
      "outputs": []
    },
    {
      "cell_type": "code",
      "source": [
        "# load data\n",
        "dataset= loadtxt('https://raw.githubusercontent.com/slmsshk/DataSet/main/pima-indians-diabetes.csv',delimiter=\",\")\n",
        "# split the dataset into x and y\n",
        "x=dataset[:,0:8]\n",
        "y=dataset[:,8]"
      ],
      "metadata": {
        "id": "HGMZRTA3mLYt"
      },
      "execution_count": 11,
      "outputs": []
    },
    {
      "cell_type": "code",
      "source": [
        "dataset"
      ],
      "metadata": {
        "colab": {
          "base_uri": "https://localhost:8080/"
        },
        "id": "mknmXbzH1QNv",
        "outputId": "008018a8-d18e-481d-89d4-2cc2a3e244e0"
      },
      "execution_count": 13,
      "outputs": [
        {
          "output_type": "execute_result",
          "data": {
            "text/plain": [
              "array([[  6.   , 148.   ,  72.   , ...,   0.627,  50.   ,   1.   ],\n",
              "       [  1.   ,  85.   ,  66.   , ...,   0.351,  31.   ,   0.   ],\n",
              "       [  8.   , 183.   ,  64.   , ...,   0.672,  32.   ,   1.   ],\n",
              "       ...,\n",
              "       [  5.   , 121.   ,  72.   , ...,   0.245,  30.   ,   0.   ],\n",
              "       [  1.   , 126.   ,  60.   , ...,   0.349,  47.   ,   1.   ],\n",
              "       [  1.   ,  93.   ,  70.   , ...,   0.315,  23.   ,   0.   ]])"
            ]
          },
          "metadata": {},
          "execution_count": 13
        }
      ]
    },
    {
      "cell_type": "code",
      "source": [
        "dataset.shape"
      ],
      "metadata": {
        "colab": {
          "base_uri": "https://localhost:8080/"
        },
        "id": "I5KDFS827A_o",
        "outputId": "94f14e2a-1878-4e4d-96fa-4367aa65c843"
      },
      "execution_count": 15,
      "outputs": [
        {
          "output_type": "execute_result",
          "data": {
            "text/plain": [
              "(768, 9)"
            ]
          },
          "metadata": {},
          "execution_count": 15
        }
      ]
    },
    {
      "cell_type": "code",
      "source": [
        "# split the dataset into train and test sets\n",
        "seed=7\n",
        "test_size=0.33\n",
        "x_train, x_test, y_train, y_test= train_test_split(x, y, test_size=test_size, random_state=seed)\n",
        "\n"
      ],
      "metadata": {
        "id": "AQOVQtbq7DOb"
      },
      "execution_count": 21,
      "outputs": []
    },
    {
      "cell_type": "code",
      "source": [
        "# fit model no training data\n",
        "model=XGBClassifier(n_estimators=90, max_depth=3)\n",
        "model.fit(x_train, y_train)\n"
      ],
      "metadata": {
        "colab": {
          "base_uri": "https://localhost:8080/"
        },
        "id": "AbMsGfs08Sm_",
        "outputId": "a3ef2b94-7d3a-4324-dc79-ff651210f786"
      },
      "execution_count": 25,
      "outputs": [
        {
          "output_type": "execute_result",
          "data": {
            "text/plain": [
              "XGBClassifier(n_estimators=90)"
            ]
          },
          "metadata": {},
          "execution_count": 25
        }
      ]
    },
    {
      "cell_type": "code",
      "source": [
        "# make prediction for test data\n",
        "y_pred=model.predict(x_test)\n",
        "predictions=[round(value)for value in y_pred]"
      ],
      "metadata": {
        "id": "MZPrN_XN9ByK"
      },
      "execution_count": 27,
      "outputs": []
    },
    {
      "cell_type": "code",
      "source": [
        "# evaluation prediction\n",
        "accuracy= accuracy_score(y_test,predictions)\n",
        "print(\"Accuracy': %.2f%%\" %(accuracy*100.0))"
      ],
      "metadata": {
        "colab": {
          "base_uri": "https://localhost:8080/"
        },
        "id": "ZGrD83zQ9xb-",
        "outputId": "d59fd48f-ed65-4a5b-c504-46264f4eb828"
      },
      "execution_count": 31,
      "outputs": [
        {
          "output_type": "stream",
          "name": "stdout",
          "text": [
            "Accuracy': 79.53%\n"
          ]
        }
      ]
    },
    {
      "cell_type": "markdown",
      "source": [
        "##LightGBM"
      ],
      "metadata": {
        "id": "mREAxVx0-1X0"
      }
    },
    {
      "cell_type": "code",
      "source": [
        "import pandas as pd\n",
        "import numpy as np\n",
        "import matplotlib.pyplot as plt"
      ],
      "metadata": {
        "id": "sOy3ioac-5mx"
      },
      "execution_count": 33,
      "outputs": []
    },
    {
      "cell_type": "code",
      "source": [
        "!pip install lightgbm"
      ],
      "metadata": {
        "colab": {
          "base_uri": "https://localhost:8080/"
        },
        "id": "0gPSt2EU_F7H",
        "outputId": "838c487a-0db9-4bf4-ae6d-e49d85c9643b"
      },
      "execution_count": 35,
      "outputs": [
        {
          "output_type": "stream",
          "name": "stdout",
          "text": [
            "Looking in indexes: https://pypi.org/simple, https://us-python.pkg.dev/colab-wheels/public/simple/\n",
            "Requirement already satisfied: lightgbm in /usr/local/lib/python3.7/dist-packages (2.2.3)\n",
            "Requirement already satisfied: scikit-learn in /usr/local/lib/python3.7/dist-packages (from lightgbm) (1.0.2)\n",
            "Requirement already satisfied: scipy in /usr/local/lib/python3.7/dist-packages (from lightgbm) (1.7.3)\n",
            "Requirement already satisfied: numpy in /usr/local/lib/python3.7/dist-packages (from lightgbm) (1.21.6)\n",
            "Requirement already satisfied: joblib>=0.11 in /usr/local/lib/python3.7/dist-packages (from scikit-learn->lightgbm) (1.1.0)\n",
            "Requirement already satisfied: threadpoolctl>=2.0.0 in /usr/local/lib/python3.7/dist-packages (from scikit-learn->lightgbm) (3.1.0)\n"
          ]
        }
      ]
    },
    {
      "cell_type": "code",
      "source": [
        "# Importing the dataset \n",
        "dataset = pd.read_csv('https://raw.githubusercontent.com/slmsshk/pima-indians-diabetes.data.csv/main/pima-indians-diabetes.csv')\n",
        "# Split the data into x & y\n",
        "x=dataset.iloc[:,0:8]\n",
        "y=dataset.iloc[:,8]"
      ],
      "metadata": {
        "id": "ezDgDlfV_NEi"
      },
      "execution_count": 37,
      "outputs": []
    },
    {
      "cell_type": "code",
      "source": [
        "# Splitting the dataset into traning set and test set\n",
        "from sklearn.model_selection import train_test_split\n",
        "x_train, x_test, y_train, y_test= train_test_split(x, y, test_size=0.33, random_state=0)"
      ],
      "metadata": {
        "id": "LHMgSgZ2_r7k"
      },
      "execution_count": 41,
      "outputs": []
    },
    {
      "cell_type": "code",
      "source": [
        "import lightgbm as lgb"
      ],
      "metadata": {
        "id": "OX7zT9zvAi-N"
      },
      "execution_count": 43,
      "outputs": []
    },
    {
      "cell_type": "code",
      "source": [
        "d_train=lgb.Dataset(x_train, label=y_train)"
      ],
      "metadata": {
        "id": "KIFL06flArzp"
      },
      "execution_count": 46,
      "outputs": []
    },
    {
      "cell_type": "code",
      "source": [
        "d_train"
      ],
      "metadata": {
        "colab": {
          "base_uri": "https://localhost:8080/"
        },
        "id": "zqSZIafHBUcK",
        "outputId": "04030ae3-8bff-4e8d-f4b8-87bdb69b7b38"
      },
      "execution_count": 48,
      "outputs": [
        {
          "output_type": "execute_result",
          "data": {
            "text/plain": [
              "<lightgbm.basic.Dataset at 0x7f2035cb2490>"
            ]
          },
          "metadata": {},
          "execution_count": 48
        }
      ]
    },
    {
      "cell_type": "code",
      "source": [
        "params={}\n",
        "params['learning_rate']=0.002  # 0.1 , 0.3\n",
        "params['boosting_tpe']='gbdt'\n",
        "params['objective']='binary'\n",
        "params['metric']='binary_logloss'\n",
        "params['sub_feature']=0.5\n",
        "params['num_leaves']=10\n",
        "params['min_data']=50\n",
        "params['max_depth']=10"
      ],
      "metadata": {
        "id": "JN-0WqyKBW60"
      },
      "execution_count": 68,
      "outputs": []
    },
    {
      "cell_type": "code",
      "source": [
        "params"
      ],
      "metadata": {
        "colab": {
          "base_uri": "https://localhost:8080/"
        },
        "id": "a8spIE9ICspY",
        "outputId": "776c0e4a-6815-4dea-f6b2-e789987ea19d"
      },
      "execution_count": 69,
      "outputs": [
        {
          "output_type": "execute_result",
          "data": {
            "text/plain": [
              "{'learning_rate': 0.002,\n",
              " 'boosting_tpe': 'gbdt',\n",
              " 'objective': 'binary',\n",
              " 'metric': 'binary_logloss',\n",
              " 'sub_feature': 0.5,\n",
              " 'num_leaves': 10,\n",
              " 'min_data': 50,\n",
              " 'max_depth': 10}"
            ]
          },
          "metadata": {},
          "execution_count": 69
        }
      ]
    },
    {
      "cell_type": "code",
      "source": [
        "clf=lgb.train(params, d_train, 1400)"
      ],
      "metadata": {
        "id": "-9rPHOWzCvKb"
      },
      "execution_count": 70,
      "outputs": []
    },
    {
      "cell_type": "code",
      "source": [
        "# prediction\n",
        "y_pred=clf.predict(x_test)"
      ],
      "metadata": {
        "id": "aK_lbAYNC9hB"
      },
      "execution_count": 71,
      "outputs": []
    },
    {
      "cell_type": "code",
      "source": [
        "prediction=[round(value)for value in y_pred]"
      ],
      "metadata": {
        "id": "KEAQwEguDK9e"
      },
      "execution_count": 72,
      "outputs": []
    },
    {
      "cell_type": "code",
      "source": [
        "from sklearn.metrics import accuracy_score"
      ],
      "metadata": {
        "id": "UxAsrQK3DZdn"
      },
      "execution_count": 73,
      "outputs": []
    },
    {
      "cell_type": "code",
      "source": [
        "accuracy=accuracy_score(y_test, predictions)\n",
        "print(\"Accuracy: %.2f%%\" % (accuracy*100.0))\n",
        "\n"
      ],
      "metadata": {
        "colab": {
          "base_uri": "https://localhost:8080/"
        },
        "id": "ObqpYobhDmAR",
        "outputId": "b153a757-6ac0-4d38-89aa-fbc7f42db022"
      },
      "execution_count": 74,
      "outputs": [
        {
          "output_type": "stream",
          "name": "stdout",
          "text": [
            "Accuracy: 57.48%\n"
          ]
        }
      ]
    }
  ]
}