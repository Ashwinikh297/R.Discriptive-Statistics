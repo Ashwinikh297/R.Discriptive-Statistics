{
  "nbformat": 4,
  "nbformat_minor": 0,
  "metadata": {
    "colab": {
      "name": "Bagging Boosting stacking random forest.ipynb",
      "provenance": [],
      "authorship_tag": "ABX9TyNmvP9YRPIE8R7HfxuZ/wMg",
      "include_colab_link": true
    },
    "kernelspec": {
      "name": "python3",
      "display_name": "Python 3"
    },
    "language_info": {
      "name": "python"
    }
  },
  "cells": [
    {
      "cell_type": "markdown",
      "metadata": {
        "id": "view-in-github",
        "colab_type": "text"
      },
      "source": [
        "<a href=\"https://colab.research.google.com/github/Ashwinikh297/R.Discriptive-Statistics/blob/main/Bagging_Boosting_stacking_random_forest.ipynb\" target=\"_parent\"><img src=\"https://colab.research.google.com/assets/colab-badge.svg\" alt=\"Open In Colab\"/></a>"
      ]
    },
    {
      "cell_type": "code",
      "execution_count": 17,
      "metadata": {
        "id": "SHEL3heZoZR1"
      },
      "outputs": [],
      "source": [
        "# Bagged Decision tree for classification\n",
        "from sklearn.ensemble import BaggingClassifier\n",
        "from sklearn.model_selection import KFold\n",
        "from sklearn.model_selection import cross_val_score\n",
        "from sklearn.tree import DecisionTreeClassifier\n",
        "from pandas import read_csv\n",
        "\n"
      ]
    },
    {
      "cell_type": "code",
      "source": [
        "filename='https://raw.githubusercontent.com/slmsshk/DataSet/main/pima-indians-diabetes.csv'\n",
        "names = ['preg', 'plas', 'pres', 'skin', 'test', 'mass', 'pedi', 'age', 'class']\n",
        "dataframe=read_csv(filename,names=names)\n"
      ],
      "metadata": {
        "id": "PRpcvIRrp02_"
      },
      "execution_count": 18,
      "outputs": []
    },
    {
      "cell_type": "code",
      "source": [
        "array= dataframe.values\n",
        "x=array[:,0:8]\n",
        "y=array[:,8]\n",
        "test_size=0.33\n",
        "seed=7\n"
      ],
      "metadata": {
        "id": "MvZQhBg8qELO"
      },
      "execution_count": 19,
      "outputs": []
    },
    {
      "cell_type": "code",
      "source": [
        "kfold=KFold(n_splits=10, random_state=seed, shuffle=True) # evalutation method \n",
        "cart= DecisionTreeClassifier()\n",
        "num_trees=100"
      ],
      "metadata": {
        "id": "-_JhSCBBrCtd"
      },
      "execution_count": 25,
      "outputs": []
    },
    {
      "cell_type": "code",
      "source": [
        "model= BaggingClassifier(base_estimator=cart, n_estimators=num_trees, random_state=seed)\n",
        "results=cross_val_score(model, x, y, cv=kfold)\n",
        "print(results.mean())"
      ],
      "metadata": {
        "colab": {
          "base_uri": "https://localhost:8080/"
        },
        "id": "U3yELYwCsuq-",
        "outputId": "4c9f7739-0a9d-4d41-e79a-9b8a72f47083"
      },
      "execution_count": 27,
      "outputs": [
        {
          "output_type": "stream",
          "name": "stdout",
          "text": [
            "0.7578263841421736\n"
          ]
        }
      ]
    },
    {
      "cell_type": "code",
      "source": [
        "# Random Forest classification\n",
        "from sklearn.ensemble import RandomForestClassifier"
      ],
      "metadata": {
        "id": "W2jDKbP5uLy0"
      },
      "execution_count": 29,
      "outputs": []
    },
    {
      "cell_type": "code",
      "source": [
        "x=array[:,0:8]\n",
        "y=array[:,8]\n",
        "num_trees=100\n",
        "max_feature=3\n",
        "kfold=KFold(n_splits=10, random_state=7, shuffle=True)\n",
        "results=cross_val_score(model, x, y, cv=kfold)\n",
        "print(results.mean())"
      ],
      "metadata": {
        "colab": {
          "base_uri": "https://localhost:8080/"
        },
        "id": "Owep7RVhuma4",
        "outputId": "75d1a4d9-c754-4e0c-8aa3-717a9f9f50d3"
      },
      "execution_count": 31,
      "outputs": [
        {
          "output_type": "stream",
          "name": "stdout",
          "text": [
            "0.7578263841421736\n"
          ]
        }
      ]
    },
    {
      "cell_type": "code",
      "source": [
        "# AdaBoost Clasification \n",
        "from sklearn.ensemble import AdaBoostClassifier"
      ],
      "metadata": {
        "id": "D_bUfZ_svVTk"
      },
      "execution_count": 33,
      "outputs": []
    },
    {
      "cell_type": "code",
      "source": [
        "model =AdaBoostClassifier(n_estimators=num_trees, random_state=seed)\n",
        "results=cross_val_score(model, x, y, cv=kfold)\n",
        "print(results.mean())"
      ],
      "metadata": {
        "colab": {
          "base_uri": "https://localhost:8080/"
        },
        "id": "Z2T_5M3fvodT",
        "outputId": "9bb94277-dcdd-465a-e8cf-3c85c1c1f5f4"
      },
      "execution_count": 35,
      "outputs": [
        {
          "output_type": "stream",
          "name": "stdout",
          "text": [
            "0.7578605604921395\n"
          ]
        }
      ]
    }
  ]
}