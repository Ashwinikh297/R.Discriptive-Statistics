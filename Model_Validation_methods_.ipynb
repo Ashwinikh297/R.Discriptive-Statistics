{
  "nbformat": 4,
  "nbformat_minor": 0,
  "metadata": {
    "colab": {
      "name": "Model Validation methods .ipynb",
      "provenance": [],
      "authorship_tag": "ABX9TyOV2OmXBG/qYtLYYKgf7kwq",
      "include_colab_link": true
    },
    "kernelspec": {
      "name": "python3",
      "display_name": "Python 3"
    },
    "language_info": {
      "name": "python"
    }
  },
  "cells": [
    {
      "cell_type": "markdown",
      "metadata": {
        "id": "view-in-github",
        "colab_type": "text"
      },
      "source": [
        "<a href=\"https://colab.research.google.com/github/Ashwinikh297/R.Discriptive-Statistics/blob/main/Model_Validation_methods_.ipynb\" target=\"_parent\"><img src=\"https://colab.research.google.com/assets/colab-badge.svg\" alt=\"Open In Colab\"/></a>"
      ]
    },
    {
      "cell_type": "code",
      "execution_count": 4,
      "metadata": {
        "id": "K9wJY6SvZFbk"
      },
      "outputs": [],
      "source": [
        "from pandas import read_csv\n",
        "from sklearn.model_selection import train_test_split \n",
        "from sklearn.linear_model import LogisticRegression"
      ]
    },
    {
      "cell_type": "code",
      "source": [
        "filename = 'https://raw.githubusercontent.com/slmsshk/DataSet/main/pima-indians-diabetes.csv'"
      ],
      "metadata": {
        "id": "Ar0DDhrUahKA"
      },
      "execution_count": 6,
      "outputs": []
    },
    {
      "cell_type": "code",
      "source": [
        "names = ['preg', 'plas', 'pres', 'skin', 'test', 'mass', 'pedi', 'age', 'class']\n"
      ],
      "metadata": {
        "id": "9fSQ8vCaauyY"
      },
      "execution_count": 8,
      "outputs": []
    },
    {
      "cell_type": "code",
      "source": [
        "dataframe=read_csv(filename,names=names)"
      ],
      "metadata": {
        "id": "zYv5fvtNazyb"
      },
      "execution_count": 10,
      "outputs": []
    },
    {
      "cell_type": "code",
      "source": [
        "array= dataframe.values\n",
        "x=array[:,0:8]\n",
        "y=array[:,8]\n",
        "test_size=0.33\n",
        "seed=7"
      ],
      "metadata": {
        "id": "9ACd98yibDYs"
      },
      "execution_count": 12,
      "outputs": []
    },
    {
      "cell_type": "code",
      "source": [
        "x_train, x_test, y_train, y_test=train_test_split(x, y, test_size=test_size,random_state=seed)\n",
        "model=LogisticRegression()\n",
        "model.fit(x_train, y_train)\n",
        "result=model.score(x_test, y_test)"
      ],
      "metadata": {
        "colab": {
          "base_uri": "https://localhost:8080/"
        },
        "id": "ZwO_Z32ebr2j",
        "outputId": "c69bfd89-acca-4b47-c212-41c9aaa04472"
      },
      "execution_count": 17,
      "outputs": [
        {
          "output_type": "stream",
          "name": "stderr",
          "text": [
            "/usr/local/lib/python3.7/dist-packages/sklearn/linear_model/_logistic.py:818: ConvergenceWarning: lbfgs failed to converge (status=1):\n",
            "STOP: TOTAL NO. of ITERATIONS REACHED LIMIT.\n",
            "\n",
            "Increase the number of iterations (max_iter) or scale the data as shown in:\n",
            "    https://scikit-learn.org/stable/modules/preprocessing.html\n",
            "Please also refer to the documentation for alternative solver options:\n",
            "    https://scikit-learn.org/stable/modules/linear_model.html#logistic-regression\n",
            "  extra_warning_msg=_LOGISTIC_SOLVER_CONVERGENCE_MSG,\n"
          ]
        }
      ]
    },
    {
      "cell_type": "code",
      "source": [
        "from sklearn.model_selection import KFold\n",
        "from sklearn.model_selection import cross_val_score"
      ],
      "metadata": {
        "id": "O_r-JMoQdW7E"
      },
      "execution_count": 20,
      "outputs": []
    },
    {
      "cell_type": "code",
      "source": [
        "filename = 'https://raw.githubusercontent.com/slmsshk/DataSet/main/pima-indians-diabetes.csv'\n",
        "names = ['preg', 'plas', 'pres', 'skin', 'test', 'mass', 'pedi', 'age', 'class']\n",
        "dataframe= read_csv(filename,names=names)\n",
        "array=dataframe.values\n"
      ],
      "metadata": {
        "id": "Amg-Q0dUd1w1"
      },
      "execution_count": 22,
      "outputs": []
    },
    {
      "cell_type": "code",
      "source": [
        "x=array[:,0:8]\n",
        "y=array[:,8]\n",
        "# num folds \n",
        "seed=7\n",
        "kfold=KFold(n_splits=5)\n",
        "model=LogisticRegression(max_iter=400)\n",
        "results=cross_val_score(model, x, y, cv=kfold)\n"
      ],
      "metadata": {
        "id": "9tPNFWfqeL8C"
      },
      "execution_count": 25,
      "outputs": []
    },
    {
      "cell_type": "markdown",
      "source": [
        "## evaluate using Leave One out cross validation\n"
      ],
      "metadata": {
        "id": "VdAnQD2HfSLV"
      }
    },
    {
      "cell_type": "code",
      "source": [
        "from sklearn.model_selection import LeaveOneOut"
      ],
      "metadata": {
        "id": "nl8vSTTufcOi"
      },
      "execution_count": 27,
      "outputs": []
    },
    {
      "cell_type": "code",
      "source": [
        "filename = 'https://raw.githubusercontent.com/slmsshk/DataSet/main/pima-indians-diabetes.csv'\n",
        "names = ['preg', 'plas', 'pres', 'skin', 'test', 'mass', 'pedi', 'age', 'class']\n",
        "dataframe= read_csv(filename,names=names)\n",
        "array=dataframe.values\n",
        "x=array[:,0:8]\n",
        "y=array[:,8]\n",
        "loocv=LeaveOneOut()\n",
        "model=LogisticRegression(max_iter=300)\n",
        "results= cross_val_score(model, x, y, cv=loocv)\n"
      ],
      "metadata": {
        "id": "Umo1lKsDfxqW"
      },
      "execution_count": 31,
      "outputs": []
    }
  ]
}