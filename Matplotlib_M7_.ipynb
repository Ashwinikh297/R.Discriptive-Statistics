{
  "cells": [
    {
      "cell_type": "markdown",
      "metadata": {
        "id": "view-in-github",
        "colab_type": "text"
      },
      "source": [
        "<a href=\"https://colab.research.google.com/github/Ashwinikh297/R.Discriptive-Statistics/blob/main/Matplotlib_M7_.ipynb\" target=\"_parent\"><img src=\"https://colab.research.google.com/assets/colab-badge.svg\" alt=\"Open In Colab\"/></a>"
      ]
    },
    {
      "cell_type": "markdown",
      "metadata": {
        "id": "Xm9_Dnnbk0cf"
      },
      "source": [
        "<a class=\"anchor\" id=\"0\"></a>\n",
        "\n",
        "# Matplotlib Module\n",
        "\n",
        "This Module is divided into various sections based on contents which are listed below:- \n"
      ]
    },
    {
      "cell_type": "markdown",
      "metadata": {
        "id": "fDByGy8Mk0ci"
      },
      "source": [
        "## 1. Introduction\n",
        "\n",
        "\n",
        "When we want to convey some information to others, there are several ways to do so. The process of conveying the information with the help of plots and graphics is called **Data Visualization**. The plots and graphics take numerical data as input and display output in the form of charts, figures and tables. It helps to analyze and visualize the data clearly and make concrete decisions. It makes complex data more accessible and understandable. The goal of data visualization is to communicate information in a clear and efficient manner.\n",
        "\n",
        "\n",
        "Python has different data visualization tools available which are suitable for different purposes.\n"
      ]
    },
    {
      "cell_type": "markdown",
      "metadata": {
        "id": "aHI3rzkPk0cj"
      },
      "source": [
        "## 2. Overview of Python Visualization Tools\n",
        "\n",
        "\n",
        "\n",
        "Python is the preferred language of choice for data scientists. Python have multiple options for data visualization. It has several tools which can help us to visualize the data more effectively. These Python data visualization tools are as follows:-\n",
        "\n",
        "\n",
        "\n",
        "•\t**Matplotlib**: Comprehensive library for creating static, animated, and interactive visualizations in Python.  \n",
        "\n",
        "•\t**Seaborn**: Python data visualization library based on matplotlib\n",
        "\n",
        "•\t**pandas**: Fast, powerful, flexible and easy to use open source data analysis and manipulation tool. pandas provide the basics to easily create decent looking plots\n",
        "\n",
        "•\t**Bokeh**: Python library for creating interactive visualizations for modern web browsers.\n",
        "\n",
        "•\t**Plotly**: Plotly is a platform to create data visualization.\n",
        "\n",
        "• **TensorBoard** provides the visualization and tooling needed for machine learning experimentation\n",
        "\n",
        "•\t**ggplot**:  allows you to build visualizations incrementally, first focusing on your data and then adding and tuning components to improve its graphical representation.\n"
      ]
    },
    {
      "cell_type": "markdown",
      "metadata": {
        "id": "IP0fBkh5k0cs"
      },
      "source": [
        "## 3. Introduction to Matplotlib\n",
        "\n",
        "Matplotlib is a comprehensive library for creating static, animated, and interactive visualizations in Python. Matplotlib makes easy things easy and hard things possible.\n",
        "\n",
        "Create publication quality plots.\n",
        "* Make interactive figures that can zoom, pan, update.\n",
        "* Customize visual style and layout.\n",
        "* Export to many file formats .\n",
        "* Embed in JupyterLab and Graphical User Interfaces.\n",
        "* Use a rich array of third-party packages built on Matplotlib.\n",
        "\n",
        "The project **Matplotlib** was started by John Hunter in 2002. Matplotlib was originally started to visualize Electrocorticography (ECoG) data of epilepsy patients during post-doctoral research in Neurobiology. The open-source tool Matplotlib emerged as the most widely used plotting library for the Python programming language. It was used for data visualization during landing of the Phoenix spacecraft in 2008.\n"
      ]
    },
    {
      "cell_type": "markdown",
      "metadata": {
        "id": "4ckJWIeIk0ct"
      },
      "source": [
        "\n",
        "## 4. Import Matplotlib\n",
        "\n",
        "Before, we need to actually start using Matplotlib, we need to import it. We can import Matplotlib as follows:-\n",
        "\n",
        "`import matplotlib`\n",
        "\n",
        "\n",
        "Most of the time, we have to work with **pyplot** interface of Matplotlib. So, we will import **pyplot** interface of Matplotlib as follows:-\n",
        "\n",
        "\n",
        "`import matplotlib.pyplot`\n",
        "\n",
        "\n",
        "To make things even simpler, we will use standard shorthand for Matplotlib imports as follows:-\n",
        "\n",
        "\n",
        "`import matplotlib.pyplot as plt`\n",
        "\n"
      ]
    },
    {
      "cell_type": "code",
      "execution_count": null,
      "metadata": {
        "id": "M1YIILj7k0cu"
      },
      "outputs": [],
      "source": [
        "# Import dependencies\n",
        "\n",
        "import numpy as np\n",
        "import pandas as pd"
      ]
    },
    {
      "cell_type": "code",
      "execution_count": null,
      "metadata": {
        "id": "qNevJylGk0cv"
      },
      "outputs": [],
      "source": [
        "# Import Matplotlib\n",
        "\n",
        "import matplotlib.pyplot as plt "
      ]
    },
    {
      "cell_type": "markdown",
      "metadata": {
        "id": "_z0zpm6Vk0cw"
      },
      "source": [
        "## 5. Displaying Plots in Matplotlib\n",
        "\n",
        "\n",
        "Viewing the Matplotlib plot is context based. The best usage of Matplotlib differs depending on how we are using it. \n",
        "There are three applicable contexts for viewing the plots. The three applicable contexts are using plotting from a script, plotting from an IPython shell or plotting from a Jupyter notebook.\n"
      ]
    },
    {
      "cell_type": "markdown",
      "metadata": {
        "id": "h0tOw5Ylk0cw"
      },
      "source": [
        "### Plotting from a script\n",
        "\n",
        "\n",
        "\n",
        "If we are using Matplotlib from within a script, then the **plt.show()** command is of great use. It starts an event loop, \n",
        "looks for all currently active figure objects, and opens one or more interactive windows that display the figure or figures.\n",
        "\n",
        "\n",
        "The **plt.show()** command should be used only once per Python session. It should be used only at the end of the script. Multiple **plt.show()** commands can lead to unpredictable results and should mostly be avoided.\n"
      ]
    },
    {
      "cell_type": "markdown",
      "metadata": {
        "id": "QCr5HYFvk0cw"
      },
      "source": [
        "### Plotting from an IPython shell\n",
        "\n",
        "\n",
        "We can use Matplotlib interactively within an IPython shell. IPython works well with Matplotlib if we specify Matplotlib mode. To enable this mode, we can use the **%matplotlib** magic command after starting ipython. Any plt plot command will cause a figure window to open and further commands can be run to update the plot.\n",
        "\n"
      ]
    },
    {
      "cell_type": "markdown",
      "metadata": {
        "id": "Q_h7Qgvik0cx"
      },
      "source": [
        "### Plotting from a Jupyter notebook\n",
        "\n",
        "\n",
        "The Jupyter Notebook (formerly known as the IPython Notebook) is a data analysis and visualization tool that provides multiple tools under one roof.  It provides code execution, graphical plots, rich text and media display, mathematics formula and much more facilities into a single executable document.\n",
        "\n",
        "\n",
        "Interactive plotting within a Jupyter Notebook can be done with the **%matplotlib** command. There are two possible options to work with graphics in Jupyter Notebook. These are as follows:-\n",
        "\n",
        "\n",
        "•\t**%matplotlib notebook** – This command will produce interactive plots embedded within the notebook.\n",
        "\n",
        "•\t**%matplotlib inline** – It will output static images of the plot embedded in the notebook.\n",
        "\n",
        "\n",
        "After this command (it needs to be done only once per kernel per session), any cell within the notebook that creates a plot will embed a PNG image of the graphic.\n"
      ]
    },
    {
      "cell_type": "code",
      "execution_count": null,
      "metadata": {
        "id": "y-M-1_sDk0cx"
      },
      "outputs": [],
      "source": [
        "%matplotlib inline\n",
        "\n",
        "\n",
        "x1 = np.linspace(0, 10, 100) #Return evenly spaced numbers over a specified interval.\n",
        "\n",
        "\n",
        "# create a plot figure\n",
        "fig = plt.figure()\n",
        "\n",
        "plt.plot(x1, np.sin(x1), '-')\n",
        "plt.plot(x1, np.cos(x1), '--');"
      ]
    },
    {
      "cell_type": "markdown",
      "metadata": {
        "id": "sftPXAbgk0c9"
      },
      "source": [
        "## 6. Figure and Subplots"
      ]
    },
    {
      "cell_type": "code",
      "execution_count": null,
      "metadata": {
        "id": "akWNdPPVdGfb"
      },
      "outputs": [],
      "source": [
        "# Plots in Matplotlib reside within a Figure object. As described earlier, we can create a new figure with plt.figure() \n",
        "# as follows:-\n",
        "\n",
        "fig = plt.figure()\n",
        "\n",
        "# We can create one or more subplots using fig.add_subplot() as follows:-\n",
        "\n",
        "ax1 = fig.add_subplot(2, 2, 1)\n",
        "\n",
        "\n",
        "# The above command means that there are four plots in total (2 * 2 = 4). \n",
        "# Next three subplots using the fig.add_subplot() commands as follows:-\n",
        "\n",
        "\n",
        "ax2 = fig.add_subplot(2, 2, 2)\n",
        "\n",
        "ax3 = fig.add_subplot(2, 2, 3)\n",
        "\n",
        "ax4 = fig.add_subplot(2, 2, 4)"
      ]
    },
    {
      "cell_type": "markdown",
      "metadata": {
        "id": "vjubO2rAk0c9"
      },
      "source": [
        "The above command result in creation of subplots. "
      ]
    },
    {
      "cell_type": "code",
      "execution_count": null,
      "metadata": {
        "id": "P3Fi0zlak0c-"
      },
      "outputs": [],
      "source": [
        "plt.plot([1, 3, 2, 4], 'b-')\n",
        "\n",
        "plt.show( )"
      ]
    },
    {
      "cell_type": "markdown",
      "metadata": {
        "id": "OUBdXj4yk0c-"
      },
      "source": [
        "`plt.plot([1, 3, 2, 4], 'b-')`\n",
        "\n",
        "This code line is the actual plotting command. Only a list of values has been plotted that represent the vertical coordinates of the points to be plotted. Matplotlib will use an implicit horizontal values list, from 0 (the first value) to N-1 (where N is the number of items in the list)."
      ]
    },
    {
      "cell_type": "markdown",
      "metadata": {
        "id": "yTfk8b8mk0c-"
      },
      "source": [
        "<b> Specify both Lists </b>\n",
        "\n",
        "\n",
        "Also, we can explicitly specify both the lists as follows:- \n",
        "\n",
        "\n",
        "`x3 = range(6)`\n",
        "\n",
        "\n",
        "`plt.plot(x3, [xi**2 for xi in x3])` \n",
        "\n",
        "\n",
        "`plt.show()`\n"
      ]
    },
    {
      "cell_type": "code",
      "execution_count": null,
      "metadata": {
        "id": "rgVvgXuOk0c-"
      },
      "outputs": [],
      "source": [
        "x3 = np.arange(0.0, 6.0, 0.01) \n",
        "\n",
        "plt.plot(x3, [xi**2 for xi in x3], 'b-') \n",
        "\n",
        "plt.show()\n"
      ]
    },
    {
      "cell_type": "markdown",
      "metadata": {
        "id": "pchdEN6mk0c-"
      },
      "source": [
        "<b>Multiline Plots</b>\n",
        "\n",
        "Multiline Plots mean plotting more than one plot on the same figure. We can plot more than one plot on the same figure.  \n",
        "\n",
        "It can be achieved by plotting all the lines before calling show(). It can be done as follows:-\n"
      ]
    },
    {
      "cell_type": "code",
      "execution_count": null,
      "metadata": {
        "id": "gAaZt3drk0c-"
      },
      "outputs": [],
      "source": [
        "x4 = range(1, 5)\n",
        "\n",
        "plt.plot(x4, [xi*1.5 for xi in x4])\n",
        "\n",
        "plt.plot(x4, [xi*3 for xi in x4])\n",
        "\n",
        "plt.plot(x4, [xi/3.0 for xi in x4])\n",
        "\n",
        "plt.show()"
      ]
    },
    {
      "cell_type": "markdown",
      "metadata": {
        "id": "1ZyAzMJFk0c_"
      },
      "source": [
        "## 7.\tSaving the Plot\n",
        "\n",
        "\n",
        "We can save the figures in a wide variety of formats. We can save them using the **savefig()** command as follows:-\n",
        "\n",
        "\n",
        "`fig.savefig(‘fig1.png’)`\n",
        "\n",
        "\n",
        "\n",
        "We can explore the contents of the file using the IPython **Image** object.\n",
        "\n",
        "\n",
        "\n",
        "`from IPython.display import Image`\n",
        "\n",
        "\n",
        "`Image(‘fig1.png’)`\n",
        "\n",
        "\n",
        "In **savefig()** command, the file format is inferred from the extension of the given filename. Depending on the backend, \n",
        "many different file formats are available. The list of supported file types can be found by using the get_supported_filetypes() method of the figure canvas object as follows:-\n",
        "\n",
        "\n",
        "`fig.canvas.get_supported_filetypes()` \n"
      ]
    },
    {
      "cell_type": "code",
      "execution_count": null,
      "metadata": {
        "id": "JvqiqwqXk0c_"
      },
      "outputs": [],
      "source": [
        "# Saving the figure\n",
        "\n",
        "fig.savefig('plot1.png')"
      ]
    },
    {
      "cell_type": "code",
      "execution_count": null,
      "metadata": {
        "id": "gDCL_l5Ak0c_"
      },
      "outputs": [],
      "source": [
        "# Explore the contents of figure\n",
        "\n",
        "from IPython.display import Image\n",
        "\n",
        "Image('plot1.png')\n"
      ]
    },
    {
      "cell_type": "code",
      "execution_count": null,
      "metadata": {
        "id": "U3eRDIzSk0c_"
      },
      "outputs": [],
      "source": [
        "# Explore supported file formats\n",
        "\n",
        "\n",
        "fig.canvas.get_supported_filetypes() "
      ]
    },
    {
      "cell_type": "markdown",
      "metadata": {
        "id": "ZnWJFbb4k0dA"
      },
      "source": [
        "## 8.\tLine Plot\n",
        "\n",
        "\n",
        "We can use the following commands to draw the simple sinusoid line plot:-\n",
        "\n"
      ]
    },
    {
      "cell_type": "code",
      "execution_count": null,
      "metadata": {
        "id": "3M-BS6Xwk0dA"
      },
      "outputs": [],
      "source": [
        "# Create figure and axes first\n",
        "fig = plt.figure()\n",
        "\n",
        "ax = plt.axes()\n",
        "\n",
        "# Declare a variable x5\n",
        "x5 = np.linspace(0, 10, 1000)\n",
        "\n",
        "\n",
        "# Plot the sinusoid function\n",
        "ax.plot(x5, np.sin(x5), 'r-'); "
      ]
    },
    {
      "cell_type": "markdown",
      "metadata": {
        "id": "vtb1Wt0Hk0dA"
      },
      "source": [
        "## 9.\tScatter Plot\n",
        "\n",
        "\n",
        "\n",
        "<b> Scatter Plot with plt.plot() </b>\n",
        "\n",
        "We have used plt.plot/ax.plot to produce line plots. We can use the same functions to produce the scatter plots as follows:-\n",
        "\n"
      ]
    },
    {
      "cell_type": "code",
      "execution_count": null,
      "metadata": {
        "id": "_MIdCW95k0dA"
      },
      "outputs": [],
      "source": [
        "x7 = np.linspace(0, 10, 30)\n",
        "\n",
        "y7 = np.sin(x7)\n",
        "\n",
        "plt.plot(x7, y7, 'o', color = 'black');\n"
      ]
    },
    {
      "cell_type": "markdown",
      "metadata": {
        "id": "OtoKlVNEk0dB"
      },
      "source": [
        "## 10.\tHistogram\n",
        "\n",
        "\n",
        "Histogram charts are a graphical display of frequencies. They are represented as bars. They show what portion of the \n",
        "dataset falls into each category, usually specified as non-overlapping intervals. These categories are called bins.\n",
        "\n",
        "The **plt.hist()** function can be used to plot a simple histogram as follows:-\n"
      ]
    },
    {
      "cell_type": "code",
      "execution_count": null,
      "metadata": {
        "id": "S0q2k41rk0dB"
      },
      "outputs": [],
      "source": [
        "data1 = np.random.randn(1000)\n",
        "\n",
        "plt.hist(data1); \n"
      ]
    },
    {
      "cell_type": "markdown",
      "metadata": {
        "id": "bAuuyVEHk0dB"
      },
      "source": [
        "## 11.\tBar Chart\n",
        "\n",
        "\n",
        "Bar charts display rectangular bars either in vertical or horizontal form. Their length is proportional to the values they represent. They are used to compare two or more values.\n",
        "\n",
        "\n",
        "We can plot a bar chart using plt.bar() function. We can plot a bar chart as follows:-\n"
      ]
    },
    {
      "cell_type": "code",
      "execution_count": null,
      "metadata": {
        "id": "cTsbq9iEk0dB"
      },
      "outputs": [],
      "source": [
        "data2 = [5. , 25. , 50. , 20.]\n",
        "\n",
        "plt.bar(range(len(data2)), data2)\n",
        "\n",
        "plt.show() \n"
      ]
    },
    {
      "cell_type": "markdown",
      "metadata": {
        "id": "gThmke6uk0dB"
      },
      "source": [
        "## 12.\tHorizontal Bar Chart\n",
        "\n",
        "\n",
        "We can produce Horizontal Bar Chart using the plt.barh() function. It is the strict equivalent of plt.bar() function.\n",
        "\n"
      ]
    },
    {
      "cell_type": "code",
      "execution_count": null,
      "metadata": {
        "id": "EBaEurAvk0dC"
      },
      "outputs": [],
      "source": [
        "data2 = [5. , 25. , 50. , 20.]\n",
        "\n",
        "plt.barh(range(len(data2)), data2)\n",
        "\n",
        "plt.show() \n"
      ]
    },
    {
      "cell_type": "markdown",
      "metadata": {
        "id": "-aBSNm94k0dC"
      },
      "source": [
        "## 13.\tError Bar Chart\n",
        "\n",
        "\n",
        "\n",
        "In experimental design, the measurements lack perfect precision. So, we have to repeat the measurements. It results in \n",
        "obtaining a set of values. The representation of the distribution of data values is done by plotting a single data point \n",
        "(known as mean value of dataset) and an error bar to represent the overall distribution of data.\n",
        "\n",
        "\n",
        "We can use Matplotlib's **errorbar()** function to represent the distribution of data values. It can be done as follows:-"
      ]
    },
    {
      "cell_type": "code",
      "execution_count": null,
      "metadata": {
        "id": "g-yCtFsKk0dC"
      },
      "outputs": [],
      "source": [
        "x9 = np.arange(0, 4, 0.2)\n",
        "\n",
        "y9 = np.exp(-x9)\n",
        "\n",
        "e1 = 0.1 * np.abs(np.random.randn(len(y9)))\n",
        "\n",
        "plt.errorbar(x9, y9, yerr = e1, fmt = '.-')\n",
        "\n",
        "plt.show();"
      ]
    },
    {
      "cell_type": "markdown",
      "metadata": {
        "id": "DfeZ73Stk0dC"
      },
      "source": [
        "## 14. Stacked Bar Chart\n",
        "\n",
        "\n",
        "We can draw stacked bar chart by using a special parameter called **bottom** from the plt.bar() function. It can be done as follows:- "
      ]
    },
    {
      "cell_type": "code",
      "execution_count": null,
      "metadata": {
        "id": "kClYtXgyk0dC"
      },
      "outputs": [],
      "source": [
        "A = [15., 30., 45., 22.]\n",
        "\n",
        "B = [15., 25., 50., 20.]\n",
        "\n",
        "z2 = range(4)\n",
        "\n",
        "plt.bar(z2, A, color = 'b')\n",
        "plt.bar(z2, B, color = 'r', bottom = A)\n",
        "\n",
        "plt.show()"
      ]
    },
    {
      "cell_type": "markdown",
      "metadata": {
        "id": "0RLhhRr8k0dD"
      },
      "source": [
        "The optional **bottom** parameter of the plt.bar() function allows us to specify a starting position for a bar. Instead of running from zero to a value, it will go from the bottom to value. The first call to plt.bar() plots the blue bars. The second call to plt.bar() plots the red bars, with the bottom of the red bars being at the top of the blue bars."
      ]
    },
    {
      "cell_type": "markdown",
      "metadata": {
        "id": "A81x3jXJk0dD"
      },
      "source": [
        "## 15. Pie Chart\n",
        "\n",
        "\n",
        "Pie charts are circular representations, divided into sectors. The sectors are also called **wedges**. The arc length of each sector is proportional to the quantity we are describing. It is an effective way to represent information when we are interested mainly in comparing the wedge against the whole pie, instead of wedges against each other.\n",
        "\n",
        "Matplotlib provides the **pie()** function to plot pie charts from an array X. Wedges are created proportionally, so that each value x of array X generates a wedge proportional to x/sum(X)."
      ]
    },
    {
      "cell_type": "code",
      "execution_count": null,
      "metadata": {
        "id": "-WcDNS75k0dD"
      },
      "outputs": [],
      "source": [
        "plt.figure(figsize=(7,7))\n",
        "\n",
        "x10 = [35, 25, 20, 20]\n",
        "\n",
        "lab = ['Computer', 'Electronics', 'Mechanical', 'Chemical']\n",
        "\n",
        "plt.pie(x10, labels=lab);\n",
        "\n",
        "plt.show()"
      ]
    },
    {
      "cell_type": "markdown",
      "metadata": {
        "id": "0EJ_xIcwk0dD"
      },
      "source": [
        "## 16. Boxplot\n",
        "\n",
        "\n",
        "Boxplot allows us to compare distributions of values by showing the median, quartiles, maximum and minimum of a set of values.\n",
        "\n",
        "We can plot a boxplot with the **boxplot()** function as follows:-"
      ]
    },
    {
      "cell_type": "code",
      "execution_count": null,
      "metadata": {
        "id": "TeFXOcnNk0dD"
      },
      "outputs": [],
      "source": [
        "data3 = np.random.randn(100)\n",
        "\n",
        "plt.boxplot(data3)\n",
        "\n",
        "plt.show();"
      ]
    },
    {
      "cell_type": "markdown",
      "metadata": {
        "id": "naVW-XB5k0dD"
      },
      "source": [
        "The **boxplot()** function takes a set of values and computes the mean, median and other statistical quantities. The following points describe the preceeding boxplot:\n",
        "\n",
        "\n",
        "•\tThe red bar is the median of the distribution. \n",
        "\n",
        "•\tThe blue box includes 50 percent of the data from the lower quartile to the upper quartile. Thus, the box is centered on the median of the data. \n",
        "\n",
        "•\tThe lower whisker extends to the lowest value within 1.5 IQR from the lower quartile. \n",
        "\n",
        "•\tThe upper whisker extends to the highest value within 1.5 IQR from the upper quartile. \n",
        "\n",
        "•\tValues further from the whiskers are shown with a cross marker.\n",
        "\n"
      ]
    },
    {
      "cell_type": "markdown",
      "metadata": {
        "id": "Mnush0fwk0dE"
      },
      "source": [
        "## 17. Area Chart\n",
        "\n",
        "\n",
        "An **Area Chart** is very similar to a **Line Chart**. The area between the x-axis and the line is filled in with color or shading. It represents the evolution of a numerical variable following another numerical variable.\n",
        "\n",
        "We can create an Area Chart as follows:-\n"
      ]
    },
    {
      "cell_type": "code",
      "execution_count": null,
      "metadata": {
        "id": "OY24JFyDk0dE"
      },
      "outputs": [],
      "source": [
        "# Create some data\n",
        "x12 = range(1, 6)\n",
        "y12 = [1, 4, 6, 8, 4]\n",
        "\n",
        "# Area plot\n",
        "plt.fill_between(x12, y12)\n",
        "plt.show()"
      ]
    },
    {
      "cell_type": "markdown",
      "metadata": {
        "id": "I8kL5n9Yk0dE"
      },
      "source": [
        "I have created a basic Area chart. I could also use the stackplot function to create the Area chart as follows:-\n",
        "\n",
        "`plt.stackplot(x12, y12)`   (shown below)\n",
        "\n",
        "The fill_between() function is more convenient for future customization.\n",
        "\n"
      ]
    },
    {
      "cell_type": "code",
      "execution_count": null,
      "metadata": {
        "id": "D0JrnWkvlX3o"
      },
      "outputs": [],
      "source": [
        "# Create some data\n",
        "x123 = range(1, 6)\n",
        "y123 = [1, 4, 6, 8, 4]\n",
        "\n",
        "# Area plot\n",
        "plt.stackplot(x123, y123)\n",
        "plt.show()"
      ]
    },
    {
      "cell_type": "markdown",
      "metadata": {
        "id": "jWOazhhMk0dE"
      },
      "source": [
        "## 18. Contour Plot\n",
        "\n",
        "\n",
        "**Contour plots** are useful to display three-dimensional data in two dimensions using contours or color-coded regions.\n",
        "**Contour lines** are also known as **level lines** or **isolines**. **Contour lines** for a function of two variables are \n",
        "curves where the function has constant values. They have specific names beginning with iso- according to the nature of the variables being mapped.\n",
        "\n",
        "\n",
        "There are lot of applications of **Contour lines** in several fields such as meteorology(for temperature, pressure, rain, wind\n",
        "speed), geography, magnetism, engineering, social sciences and so on.\n",
        "\n",
        "\n",
        "The density of the lines indicates the **slope** of the function. The **gradient** of the function is always perpendicular to the contour lines. When the lines are close together, the length of the gradient is large and the variation is steep.\n",
        "\n",
        "\n",
        "A **Contour plot** can be created with the **plt.contour()** function as follows:-"
      ]
    },
    {
      "cell_type": "code",
      "execution_count": null,
      "metadata": {
        "id": "d0hYknlOk0dE"
      },
      "outputs": [],
      "source": [
        "# Create a matrix\n",
        "matrix1 = np.random.rand(10, 20)\n",
        "\n",
        "cp = plt.contour(matrix1)\n",
        "\n",
        "plt.show()"
      ]
    },
    {
      "cell_type": "markdown",
      "metadata": {
        "id": "8VCbm5hck0dF"
      },
      "source": [
        "The **contour()** function draws contour lines. It takes a 2D array as input.Here, it is a matrix of 10 x 20 random elements.\n",
        "\n",
        "The number of level lines to draw is chosen automatically, but we can also specify it as an additional parameter, N.\n",
        "\n",
        "`plt.contour(matrix, N)`\n"
      ]
    },
    {
      "cell_type": "markdown",
      "metadata": {
        "id": "TtWgjQi_k0dF"
      },
      "source": [
        "## 19. Styles with Matplotlib Plots\n",
        "\n",
        "\n",
        "The Matplotlib version 1.4 which was released in August 2014 added a very convenient `style` module. It includes a number of \n",
        "new default stylesheets, as well as the ability to create and package own styles.\n",
        "\n",
        "We can view the list of all available styles by the following command.\n",
        "\n",
        "\n",
        "`print(plt.style.availabe)`\n"
      ]
    },
    {
      "cell_type": "code",
      "execution_count": null,
      "metadata": {
        "id": "PniapdNgk0dF"
      },
      "outputs": [],
      "source": [
        "# View list of all available styles\n",
        "\n",
        "print(plt.style.available)"
      ]
    },
    {
      "cell_type": "markdown",
      "metadata": {
        "id": "Zv2gUcO3k0dF"
      },
      "source": [
        "We can set the **Styles** for Matplotlib plots as follows:-\n",
        "\n",
        "\n",
        "`plt.style.use('seaborn-bright')`\n"
      ]
    },
    {
      "cell_type": "code",
      "execution_count": null,
      "metadata": {
        "id": "EJX3LZvWk0dF"
      },
      "outputs": [],
      "source": [
        "# Set styles for plots\n",
        "\n",
        "plt.style.use('seaborn-bright')"
      ]
    },
    {
      "cell_type": "markdown",
      "metadata": {
        "id": "N1Wc8vtek0dF"
      },
      "source": [
        "I have set the **seaborn-bright** style for plots. So, the plot uses the **seaborn-bright** Matplotlib style for plots.\n",
        "\n"
      ]
    },
    {
      "cell_type": "markdown",
      "metadata": {
        "id": "eE_oEwDJk0dG"
      },
      "source": [
        "## 20. Adding a grid\n",
        "\n",
        "\n",
        "In some cases, the background of a plot was completely blank. We can get more information, if there is a reference system in the plot. The reference system would improve the comprehension of the plot. An example of the reference system is adding a **grid**.\n",
        "We can add a grid to the plot by calling the **grid()** function. It takes one parameter, a Boolean value, to enable(if True)\n",
        "or disable(if False) the grid."
      ]
    },
    {
      "cell_type": "code",
      "execution_count": null,
      "metadata": {
        "id": "OlsO6K54k0dG"
      },
      "outputs": [],
      "source": [
        "x15 = np.arange(1, 5)\n",
        "\n",
        "plt.plot(x15, x15*1.5, x15, x15*3.0, x15, x15/3.0)\n",
        "\n",
        "plt.grid(True)\n",
        "\n",
        "plt.show()"
      ]
    },
    {
      "cell_type": "markdown",
      "metadata": {
        "id": "4q0I6bJyk0dG"
      },
      "source": [
        "## 21. Handling axes\n",
        "\n",
        "\n",
        "Matplotlib automatically sets the limits of the plot to precisely contain the plotted datasets. Sometimes, we want to set the\n",
        "axes limits ourself. We can set the axes limits with the **axis()** function as follows:-"
      ]
    },
    {
      "cell_type": "code",
      "execution_count": null,
      "metadata": {
        "id": "DVnjVH1pk0dG"
      },
      "outputs": [],
      "source": [
        "x15 = np.arange(1, 5)\n",
        "\n",
        "plt.plot(x15, x15*1.5, x15, x15*3.0, x15, x15/3.0)\n",
        "\n",
        "plt.axis()   # shows the current axis limits values\n",
        "\n",
        "plt.axis([0, 5, -1, 13])\n",
        "\n",
        "plt.show()"
      ]
    },
    {
      "cell_type": "markdown",
      "metadata": {
        "id": "epmX9U1Xk0dG"
      },
      "source": [
        "We can see that we now have more space around the lines."
      ]
    },
    {
      "cell_type": "markdown",
      "metadata": {
        "id": "rk-hhDGlk0dH"
      },
      "source": [
        "If we execute **axis()** without parameters, it returns the actual axis limits.\n",
        "\n",
        "We can set parameters to **axis()** by a list of four values. \n",
        "\n",
        "The list of four values are the keyword arguments [xmin, xmax, ymin, ymax] allows the minimum and maximum limits for X and Y \n",
        "axis respectively.\n",
        " "
      ]
    },
    {
      "cell_type": "markdown",
      "metadata": {
        "id": "ddsGlb0Nk0dH"
      },
      "source": [
        "We can control the limits for each axis separately using the `xlim()` and `ylim()` functions. This can be done as follows:-"
      ]
    },
    {
      "cell_type": "code",
      "execution_count": null,
      "metadata": {
        "id": "6tqDwFDjk0dH",
        "scrolled": true
      },
      "outputs": [],
      "source": [
        "x15 = np.arange(1, 5)\n",
        "\n",
        "plt.plot(x15, x15*1.5, x15, x15*3.0, x15, x15/3.0)\n",
        "\n",
        "plt.xlim([1.0, 4.0])\n",
        "\n",
        "plt.ylim([0.0, 12.0])\n"
      ]
    },
    {
      "cell_type": "markdown",
      "metadata": {
        "id": "C0IU_PEnk0dH"
      },
      "source": [
        "## 22. Handling X and Y ticks\n",
        "\n",
        "\n",
        "Vertical and horizontal ticks are those little segments on the axes, coupled with axes labels, used to give a reference system\n",
        "on the graph.So, they form the origin and the grid lines.\n",
        "\n",
        "Matplotlib provides two basic functions to manage them - **xticks()** and **yticks()**.\n",
        "\n",
        "Executing with no arguments, the tick function returns the current ticks' locations and the labels corresponding to each of them.\n",
        "\n",
        "We can pass arguments(in the form of lists) to the ticks functions. The arguments are:-\n",
        "\n",
        "1. Locations of the ticks\n",
        "\n",
        "2. Labels to draw at these locations.\n",
        "\n",
        "We can demonstrate the usage of the ticks functions in the code snippet below:-\n",
        "\n"
      ]
    },
    {
      "cell_type": "code",
      "execution_count": null,
      "metadata": {
        "id": "4ilz3wNdk0dH"
      },
      "outputs": [],
      "source": [
        "u = [5, 4, 9, 7, 8, 9, 6, 5, 7, 8]\n",
        "\n",
        "plt.plot(u)\n",
        "\n",
        "plt.xticks([2, 4, 6, 8, 10])\n",
        "plt.yticks([2, 4, 6, 8, 10])\n",
        "\n",
        "plt.show()"
      ]
    },
    {
      "cell_type": "markdown",
      "metadata": {
        "id": "qQ5BlKq1k0dH"
      },
      "source": [
        "## 23. Adding labels\n",
        "\n",
        "\n",
        "Another important piece of information to add to a plot is the axes labels, since they specify the type of data we are plotting."
      ]
    },
    {
      "cell_type": "code",
      "execution_count": null,
      "metadata": {
        "id": "KQ3c2tKxk0dI"
      },
      "outputs": [],
      "source": [
        "plt.plot([1, 3, 2, 4])\n",
        "\n",
        "plt.xlabel('This is the X axis')\n",
        "\n",
        "plt.ylabel('This is the Y axis')\n",
        "\n",
        "plt.show()"
      ]
    },
    {
      "cell_type": "markdown",
      "metadata": {
        "id": "hjxfJgWrk0dI"
      },
      "source": [
        "## 24. Adding a title\n",
        "\n",
        "\n",
        "The title of a plot describes about the plot. Matplotlib provides a simple function **title()** to add a title to an image.  "
      ]
    },
    {
      "cell_type": "code",
      "execution_count": null,
      "metadata": {
        "id": "cjYoQAJkk0dI"
      },
      "outputs": [],
      "source": [
        "plt.plot([1, 3, 2, 4])\n",
        "\n",
        "plt.title('First Plot')\n",
        "\n",
        "plt.show()"
      ]
    },
    {
      "cell_type": "markdown",
      "metadata": {
        "id": "JeFBIYUok0dI"
      },
      "source": [
        "The above plot displays the output of the previous code. The title `First Plot` is displayed on top of the plot."
      ]
    },
    {
      "cell_type": "markdown",
      "metadata": {
        "id": "RlJOAYfok0dI"
      },
      "source": [
        "## 25. Adding a legend\n",
        "\n",
        "\n",
        "Legends are used to describe what each line or curve means in the plot. \n",
        "\n",
        "Legends for curves in a figure can be added in two ways. One method is to use the **legend** method of the axis object and \n",
        "pass a list/tuple of legend texts as follows:-"
      ]
    },
    {
      "cell_type": "code",
      "execution_count": null,
      "metadata": {
        "id": "WGjJk7Xck0dJ"
      },
      "outputs": [],
      "source": [
        "x15 = np.arange(1, 5)\n",
        "\n",
        "fig, ax = plt.subplots()\n",
        "\n",
        "ax.plot(x15, x15*1.5)\n",
        "ax.plot(x15, x15*3.0)\n",
        "ax.plot(x15, x15/3.0)\n",
        "\n",
        "ax.legend(['Normal','Fast','Slow']);\n"
      ]
    },
    {
      "cell_type": "markdown",
      "metadata": {
        "id": "p6SIukPwk0dJ"
      },
      "source": [
        "The above method follows the MATLAB API. It is prone to errors and unflexible if curves are added to or removed from the plot.\n",
        "It resulted in a wrongly labelled curve."
      ]
    },
    {
      "cell_type": "markdown",
      "metadata": {
        "id": "y9rMvGnIk0dJ"
      },
      "source": [
        "A better method is to use the **label** keyword argument when plots are added to the figure. Then we use the **legend** method without arguments to add the legend to the figure. \n",
        "\n",
        "The advantage of this method is that if curves are added or removed from the figure, the legend is automatically updated\n",
        "accordingly. It can be achieved by executing the code below:-\n"
      ]
    },
    {
      "cell_type": "code",
      "execution_count": null,
      "metadata": {
        "id": "49gQFsyuk0dJ"
      },
      "outputs": [],
      "source": [
        "x15 = np.arange(1, 5)\n",
        "\n",
        "fig, ax = plt.subplots()\n",
        "\n",
        "ax.plot(x15, x15*1.5, label='Normal')\n",
        "ax.plot(x15, x15*3.0, label='Fast')\n",
        "ax.plot(x15, x15/3.0, label='Slow')\n",
        "\n",
        "ax.legend();\n",
        "\n"
      ]
    },
    {
      "cell_type": "markdown",
      "metadata": {
        "id": "E4Ij_2Puk0dJ"
      },
      "source": [
        "The **legend** function takes an optional keyword argument **loc**. It specifies the location of the legend to be drawn. \n",
        "The **loc** takes numerical codes for the various places the legend can be drawn. The most common **loc** values are as follows:-"
      ]
    },
    {
      "cell_type": "markdown",
      "metadata": {
        "id": "5mXJK9PEk0dK"
      },
      "source": [
        "ax.legend(loc=0)  # let Matplotlib decide the optimal location\n",
        "\n",
        "ax.legend(loc=1)  # upper right corner\n",
        "\n",
        "ax.legend(loc=2)  # upper left corner\n",
        "\n",
        "ax.legend(loc=3)  # lower left corner\n",
        "\n",
        "ax.legend(loc=4)  # lower right corner\n",
        "\n",
        "ax.legend(loc=5)  # right\n",
        "\n",
        "ax.legend(loc=6)  # center left\n",
        "\n",
        "ax.legend(loc=7)  # center right\n",
        "\n",
        "ax.legend(loc=8)  # lower center\n",
        "\n",
        "ax.legend(loc=9)  # upper center\n",
        "\n",
        "ax.legend(loc=10) # center"
      ]
    },
    {
      "cell_type": "markdown",
      "metadata": {
        "id": "dAQiiy61k0dK"
      },
      "source": [
        "## 26. Control colours\n",
        "\n",
        "\n",
        "We can draw different lines or curves in a plot with different colours. In the code below, we specify colour as the last argument to draw red, blue and green lines."
      ]
    },
    {
      "cell_type": "code",
      "execution_count": null,
      "metadata": {
        "id": "Ip4_5yPek0dK"
      },
      "outputs": [],
      "source": [
        "x16 = np.arange(1, 5)\n",
        "\n",
        "plt.plot(x16, 'r')\n",
        "plt.plot(x16+1, 'g')\n",
        "plt.plot(x16+2, 'b')\n",
        "\n",
        "plt.show()"
      ]
    },
    {
      "cell_type": "markdown",
      "metadata": {
        "id": "MEZur8esk0dK"
      },
      "source": [
        "The colour names and colour abbreviations are given in the following table:-\n",
        "\n",
        "\n",
        "**Colour abbreviation**      **Colour name**\n",
        "\n",
        "b                               blue\n",
        "\n",
        "c                               cyan\n",
        "\n",
        "g                               green\n",
        "\n",
        "k                               black\n",
        "\n",
        "m                               magenta\n",
        "\n",
        "r                               red\n",
        "\n",
        "w                               white\n",
        "\n",
        "y                               yellow"
      ]
    },
    {
      "cell_type": "markdown",
      "metadata": {
        "id": "amzXR5O8k0dK"
      },
      "source": [
        "There are several ways to specify colours, other than by colour abbreviations:\n",
        "    \n",
        "•\tThe full colour name, such as yellow\n",
        "\n",
        "•\tHexadecimal string such as ##FF00FF\n",
        "\n",
        "•\tRGB tuples, for example (1, 0, 1)\n",
        "\n",
        "•\tGrayscale intensity, in string format such as ‘0.7’.\n"
      ]
    },
    {
      "cell_type": "markdown",
      "metadata": {
        "id": "9zec8bt2k0dK"
      },
      "source": [
        "## 27. Control line styles\n",
        "\n",
        "\n",
        "Matplotlib provides us different line style options to draw curves or plots. In the code below, I use different line styles \n",
        "to draw different plots.\n"
      ]
    },
    {
      "cell_type": "code",
      "execution_count": null,
      "metadata": {
        "id": "f2dTBg54k0dL"
      },
      "outputs": [],
      "source": [
        "x16 = np.arange(1, 5)\n",
        "\n",
        "plt.plot(x16, '--', x16+1, '-.', x16+2, ':')\n",
        "\n",
        "plt.show()"
      ]
    },
    {
      "cell_type": "markdown",
      "metadata": {
        "id": "47_7_Nxkk0dL"
      },
      "source": [
        "The above code snippet generates a blue dashed line, a green dash-dotted line and a red dotted line."
      ]
    },
    {
      "cell_type": "markdown",
      "metadata": {
        "id": "TxrmF3-Fk0dL"
      },
      "source": [
        "All the available line styles are available in the following table:\n",
        "\n",
        "\n",
        "**Style abbreviation**  **Style**\n",
        "\n",
        "-                    solid line\n",
        "   \n",
        "--                   dashed line\n",
        "   \n",
        "-.                   dash-dot line\n",
        "   \n",
        ":                    dotted line\n",
        "   \n",
        "\n",
        "\n",
        "Now, we can see the default format string for a single line plot is 'b-'."
      ]
    },
    {
      "cell_type": "markdown",
      "metadata": {
        "id": "A7Vt6FL0lX3w"
      },
      "source": [
        "# Basic Usage\n",
        "The simplest way of creating a Figure with an Axes is using **pyplot.subplots**. We can then use **Axes.plot** to draw some data on the Axes:"
      ]
    },
    {
      "cell_type": "code",
      "execution_count": null,
      "metadata": {
        "id": "4TZOGIPQlX3x"
      },
      "outputs": [],
      "source": [
        "fig, ax = plt.subplots()  # Create a figure containing a single axes.\n",
        "ax.plot([1, 2, 3, 4], [1, 4, 2, 3]);  # Plot some data on the axes."
      ]
    },
    {
      "cell_type": "markdown",
      "metadata": {
        "id": "QrrhsQ44lX3x"
      },
      "source": [
        "# Figure\n",
        "The **whole** figure. The Figure keeps track of all the child Axes, a group of 'special' Artists (titles, figure legends, colorbars, etc), and even nested subfigures.\n",
        "\n",
        "The easiest way to create a new Figure is with pyplot:"
      ]
    },
    {
      "cell_type": "code",
      "execution_count": null,
      "metadata": {
        "id": "UtjPUNQKlX3x"
      },
      "outputs": [],
      "source": [
        "fig = plt.figure()  # an empty figure with no Axes\n",
        "fig, ax = plt.subplots()  # a figure with a single Axes\n",
        "fig, axs = plt.subplots(2, 2)  # a figure with a 2x2 grid of Axes"
      ]
    },
    {
      "cell_type": "markdown",
      "metadata": {
        "id": "w6RKPkHOlX3x"
      },
      "source": [
        "It is often convenient to create the Axes together with the Figure, but you can also manually add Axes later on. Note that many Matplotlib backends support zooming and panning on figure windows."
      ]
    },
    {
      "cell_type": "markdown",
      "metadata": {
        "id": "ZqdQ7Va0lX3y"
      },
      "source": [
        "## Axes\n",
        "An Axes is an Artist attached to a Figure that contains a region for plotting data, and usually includes two (or three in the case of 3D) Axis objects (be aware of the difference between **Axes** and **Axis**) that provide ticks and tick labels to provide scales for the data in the Axes. Each Axes also has a title (set via **set_title())**, an x-label (set via **set_xlabel())**, and a y-label set via **set_ylabel())**.\n",
        "\n",
        "The Axes class and its member functions are the primary entry point to working with the OOP interface, and have most of the plotting methods defined on them (e.g. ax.plot(), shown above, uses the plot method)"
      ]
    },
    {
      "cell_type": "markdown",
      "metadata": {
        "id": "7mMLGUvnlX3y"
      },
      "source": [
        "## Axis\n",
        "These objects set the scale and limits and generate ticks (the marks on the Axis) and ticklabels (strings labeling the ticks). The location of the ticks is determined by a **Locator** object and the ticklabel strings are formatted by a **Formatter**. The combination of the correct Locator and Formatter gives very fine control over the tick locations and labels. "
      ]
    },
    {
      "cell_type": "markdown",
      "metadata": {
        "id": "qb34_UiClX3z"
      },
      "source": [
        "## Artist\n",
        "Basically, everything visible on the Figure is an Artist (even Figure, Axes, and Axis objects). This includes Text objects, Line2D objects, collections objects, Patch objects, etc. When the Figure is rendered, all of the Artists are drawn to the **canvas**. Most Artists are tied to an Axes; such an Artist cannot be shared by multiple Axes, or moved from one to another."
      ]
    },
    {
      "cell_type": "markdown",
      "metadata": {
        "id": "knD7LwWalX3z"
      },
      "source": [
        "# Types of inputs to plotting functions\n",
        "Plotting functions expect numpy.array or numpy.ma.masked_array as input, or objects that can be passed to numpy.asarray. Classes that are similar to arrays ('array-like') such as pandas data objects and numpy.matrix may not work as intended. Common convention is to convert these to numpy.array objects prior to plotting. For example, to convert a numpy.matrix\n",
        "\n"
      ]
    },
    {
      "cell_type": "code",
      "execution_count": null,
      "metadata": {
        "id": "RT9HUmQblX30"
      },
      "outputs": [],
      "source": [
        "b = np.matrix([[1, 2], [3, 4]])\n",
        "b_asarray = np.asarray(b)"
      ]
    },
    {
      "cell_type": "markdown",
      "metadata": {
        "id": "p9x0MrBglX30"
      },
      "source": [
        "Most methods will also parse an addressable object like a dict, a numpy.recarray, or a pandas.DataFrame. Matplotlib allows you provide the data keyword argument and generate plots passing the strings corresponding to the x and y variables."
      ]
    },
    {
      "cell_type": "code",
      "execution_count": null,
      "metadata": {
        "id": "9-jnVp7tlX30"
      },
      "outputs": [],
      "source": [
        "np.random.seed(19680801)  # seed the random number generator.\n",
        "data = {'a': np.arange(50),\n",
        "        'c': np.random.randint(0, 50, 50),\n",
        "        'd': np.random.randn(50)}\n",
        "data['b'] = data['a'] + 10 * np.random.randn(50)\n",
        "data['d'] = np.abs(data['d']) * 100\n",
        "\n",
        "fig, ax = plt.subplots(figsize=(5, 2.7), constrained_layout=True)\n",
        "ax.scatter('a', 'b', c='c', s='d', data=data)\n",
        "ax.set_xlabel('entry a')\n",
        "ax.set_ylabel('entry b');"
      ]
    },
    {
      "cell_type": "markdown",
      "metadata": {
        "id": "znBPRX8tlX30"
      },
      "source": [
        "# Coding styles\n",
        "### The object-oriented and the pyplot interfaces\n",
        "As noted above, there are essentially two ways to use Matplotlib:\n",
        "\n",
        "1. Explicitly create Figures and Axes, and call methods on them (the \"object-oriented (OO) style\").\n",
        "\n",
        "2. Rely on pyplot to automatically create and manage the Figures and Axes, and use pyplot functions for plotting.\n",
        "\n",
        "So one can use the OO-style"
      ]
    },
    {
      "cell_type": "code",
      "execution_count": null,
      "metadata": {
        "id": "HT1kTCGLlX30"
      },
      "outputs": [],
      "source": [
        "x = np.linspace(0, 2, 100)  # Sample data.\n",
        "\n",
        "# Note that even in the OO-style, we use `.pyplot.figure` to create the Figure.\n",
        "fig, ax = plt.subplots(figsize=(5, 2.7), constrained_layout=True)\n",
        "ax.plot(x, x, label='linear')  # Plot some data on the axes.\n",
        "ax.plot(x, x**2, label='quadratic')  # Plot more data on the axes...\n",
        "ax.plot(x, x**3, label='cubic')  # ... and some more.\n",
        "ax.set_xlabel('x label')  # Add an x-label to the axes.\n",
        "ax.set_ylabel('y label')  # Add a y-label to the axes.\n",
        "ax.set_title(\"Simple Plot\")  # Add a title to the axes.\n",
        "ax.legend();  # Add a legend."
      ]
    },
    {
      "cell_type": "markdown",
      "metadata": {
        "id": "jbmFLnjDlX30"
      },
      "source": [
        "or the pyplot-style:"
      ]
    },
    {
      "cell_type": "code",
      "execution_count": null,
      "metadata": {
        "id": "7Gyu7-GUlX31"
      },
      "outputs": [],
      "source": [
        "x = np.linspace(0, 2, 100)  # Sample data.\n",
        "\n",
        "plt.figure(figsize=(5, 2.7), constrained_layout=True)\n",
        "plt.plot(x, x, label='linear')  # Plot some data on the (implicit) axes.\n",
        "plt.plot(x, x**2, label='quadratic')  # etc.\n",
        "plt.plot(x, x**3, label='cubic')\n",
        "plt.xlabel('x label')\n",
        "plt.ylabel('y label')\n",
        "plt.title(\"Simple Plot\")\n",
        "plt.legend();"
      ]
    },
    {
      "cell_type": "markdown",
      "metadata": {
        "id": "3HIboIztlX31"
      },
      "source": [
        "# Making a helper functions\n",
        "If you need to make the same plots over and over again with different data sets, or want to easily wrap Matplotlib methods, use the recommended signature function below."
      ]
    },
    {
      "cell_type": "code",
      "execution_count": null,
      "metadata": {
        "id": "IDZUQB00lX31"
      },
      "outputs": [],
      "source": [
        "def my_plotter(ax, data1, data2, param_dict):\n",
        "    \"\"\"\n",
        "    A helper function to make a graph.\n",
        "    \"\"\"\n",
        "    out = ax.plot(data1, data2, **param_dict)\n",
        "    return out"
      ]
    },
    {
      "cell_type": "markdown",
      "metadata": {
        "id": "vf_ECPS0lX31"
      },
      "source": [
        "which you would then use twice to populate two subplots:"
      ]
    },
    {
      "cell_type": "code",
      "execution_count": null,
      "metadata": {
        "id": "8IMlyrvqlX31"
      },
      "outputs": [],
      "source": [
        "data1, data2, data3, data4 = np.random.randn(4, 100)  # make 4 random data sets\n",
        "fig, (ax1, ax2) = plt.subplots(1, 2, figsize=(5, 2.7))\n",
        "my_plotter(ax1, data1, data2, {'marker': 'x'})\n",
        "my_plotter(ax2, data3, data4, {'marker': 'o'});"
      ]
    },
    {
      "cell_type": "markdown",
      "metadata": {
        "id": "XI09a8xglX31"
      },
      "source": [
        "# Styling Artists\n",
        "Most plotting methods have styling options for the Artists, accessible either when a plotting method is called, or from a \"setter\" on the Artist. In the plot below we manually set the color, linewidth, and linestyle of the Artists created by plot, and we set the linestyle of the second line after the fact with set_linestyle."
      ]
    },
    {
      "cell_type": "code",
      "execution_count": null,
      "metadata": {
        "id": "5a9Los7blX32"
      },
      "outputs": [],
      "source": [
        "fig, ax = plt.subplots(figsize=(5, 2.7))\n",
        "x = np.arange(len(data1))\n",
        "ax.plot(x, np.cumsum(data1), color='blue', linewidth=3, linestyle='--')\n",
        "l, = ax.plot(x, np.cumsum(data2), color='orange', linewidth=2)\n",
        "l.set_linestyle(':');"
      ]
    },
    {
      "cell_type": "markdown",
      "metadata": {
        "id": "gmuIoY78lX32"
      },
      "source": [
        "# Colors\n",
        "Matplotlib has a very flexible array of colors that are accepted for most Artists; see the colors tutorial for a list of specifications. Some Artists will take multiple colors. i.e. for a scatter plot, the edge of the markers can be different colors from the interior:"
      ]
    },
    {
      "cell_type": "code",
      "execution_count": null,
      "metadata": {
        "id": "7ZyvlnyAlX32"
      },
      "outputs": [],
      "source": [
        "fig, ax = plt.subplots(figsize=(5, 2.7))\n",
        "ax.scatter(data1, data2, s=50, facecolor='C0', edgecolor='k');"
      ]
    },
    {
      "cell_type": "markdown",
      "metadata": {
        "id": "XbwBiprSlX32"
      },
      "source": [
        "# Linewidths, linestyles, and markersizes\n",
        "Line widths are typically in typographic points (1 pt = 1/72 inch) and available for Artists that have stroked lines. Similarly, stroked lines can have a linestyle. See the linestyles example."
      ]
    },
    {
      "cell_type": "code",
      "execution_count": null,
      "metadata": {
        "id": "niHyA1XWlX32"
      },
      "outputs": [],
      "source": [
        "fig, ax = plt.subplots(figsize=(5, 2.7))\n",
        "ax.plot(data1, 'o', label='data1')\n",
        "ax.plot(data2, 'd', label='data2')\n",
        "ax.plot(data3, 'v', label='data3')\n",
        "ax.plot(data4, 's', label='data4')\n",
        "ax.legend();"
      ]
    },
    {
      "cell_type": "markdown",
      "metadata": {
        "id": "Ss-PL3jXlX33"
      },
      "source": [
        "# Labelling plots\n",
        "### Axes labels and text\n",
        "set_xlabel, set_ylabel, and set_title are used to add text in the indicated locations (see Text in Matplotlib Plots for more discussion). Text can also be directly added to plots using text:"
      ]
    },
    {
      "cell_type": "code",
      "execution_count": null,
      "metadata": {
        "id": "K114DCcIlX33"
      },
      "outputs": [],
      "source": [
        "mu, sigma = 115, 15\n",
        "x = mu + sigma * np.random.randn(10000)\n",
        "fig, ax = plt.subplots(figsize=(5, 2.7), constrained_layout=True)\n",
        "# the histogram of the data\n",
        "n, bins, patches = ax.hist(x, 50, density=1, facecolor='C0', alpha=0.75)\n",
        "\n",
        "ax.set_xlabel('Length [cm]')\n",
        "ax.set_ylabel('Probability')\n",
        "ax.set_title('Aardvark lengths\\n (not really)')\n",
        "ax.text(75, .025, r'$\\mu=115,\\ \\sigma=15$')\n",
        "ax.axis([55, 175, 0, 0.03])\n",
        "ax.grid(True);"
      ]
    },
    {
      "cell_type": "markdown",
      "metadata": {
        "id": "ducbEdp8lX33"
      },
      "source": [
        "All of the text functions return a matplotlib.text.Text instance. Just as with lines above, you can customize the properties by passing keyword arguments into the text functions:"
      ]
    },
    {
      "cell_type": "markdown",
      "metadata": {
        "id": "adrukxtvlX33"
      },
      "source": [
        "`t = ax.set_xlabel('my data', fontsize=14, color='red')`"
      ]
    },
    {
      "cell_type": "markdown",
      "metadata": {
        "id": "d7h4sav7lX33"
      },
      "source": [
        "# Using mathematical expressions in text\n",
        "Matplotlib accepts TeX equation expressions in any text expression. For example to write the expression  in the title, you can write a TeX expression surrounded by dollar signs:\n",
        "\n",
        "`ax.set_title(r'$\\sigma_i=15$')`\n",
        "\n",
        "where the r preceding the title string signifies that the string is a raw string and not to treat backslashes as python escapes. Matplotlib has a built-in TeX expression parser and layout engine, and ships its own math fonts – for details see Writing mathematical expressions. You can also use LaTeX directly to format your text and incorporate the output directly into your display figures or saved postscript – see Text rendering with LaTeX."
      ]
    },
    {
      "cell_type": "markdown",
      "metadata": {
        "id": "4Df98GxslX33"
      },
      "source": [
        "## Annotations\n",
        "We can also annotate points on a plot, often by connecting an arrow pointing to xy, to a piece of text at xytext:"
      ]
    },
    {
      "cell_type": "code",
      "execution_count": null,
      "metadata": {
        "id": "dIJZFqg7lX34"
      },
      "outputs": [],
      "source": [
        "fig, ax = plt.subplots(figsize=(5, 2.7))\n",
        "\n",
        "t = np.arange(0.0, 5.0, 0.01)\n",
        "s = np.cos(2 * np.pi * t)\n",
        "line, = ax.plot(t, s, lw=2)\n",
        "\n",
        "ax.annotate('local max', xy=(2, 1), xytext=(3, 1.5),\n",
        "            arrowprops=dict(facecolor='black', shrink=0.05))\n",
        "\n",
        "ax.set_ylim(-2, 2);"
      ]
    },
    {
      "cell_type": "markdown",
      "metadata": {
        "id": "9weh0aYKlX34"
      },
      "source": [
        "## Legends\n",
        "Often we want to identify lines or markers with a Axes.legend:"
      ]
    },
    {
      "cell_type": "code",
      "execution_count": null,
      "metadata": {
        "id": "BtIH6O44lX34"
      },
      "outputs": [],
      "source": [
        "fig, ax = plt.subplots(figsize=(5, 2.7))\n",
        "ax.plot(np.arange(len(data1)), data1, label='data1')\n",
        "ax.plot(np.arange(len(data2)), data2, label='data2')\n",
        "ax.plot(np.arange(len(data3)), data3, 'd', label='data3')\n",
        "ax.legend();"
      ]
    },
    {
      "cell_type": "markdown",
      "metadata": {
        "id": "plwKY_YalX34"
      },
      "source": [
        "Legends in Matplotlib are quite flexible in layout, placement, and what Artists they can represent. They are discussed in detail in Legend guide."
      ]
    },
    {
      "cell_type": "markdown",
      "metadata": {
        "id": "ReHy_TU3lX34"
      },
      "source": [
        "# Axis scales and ticks\n",
        "Each Axes has two (or three) Axis objects representing the x- and y-axis. These control the scale of the Axis, the tick locators and the tick formatters. Additional Axes can be attached to display further Axis objects.\n",
        "\n",
        "### Scales\n",
        "In addition to the linear scale, Matplotlib supplies non-linear scales, such as a log-scale. Since log-scales are used so much there are also direct methods like loglog, semilogx, and semilogy. There are a number of scales (see Scales for other examples). Here we set the scale manually:"
      ]
    },
    {
      "cell_type": "code",
      "execution_count": null,
      "metadata": {
        "id": "dNF1jl1IlX35"
      },
      "outputs": [],
      "source": [
        "fig, axs = plt.subplots(1, 2, figsize=(5, 2.7), constrained_layout=True)\n",
        "xdata = np.arange(len(data1))  # make an ordinal for this\n",
        "data = 10**data1\n",
        "axs[0].plot(xdata, data)\n",
        "\n",
        "axs[1].set_yscale('log')\n",
        "axs[1].plot(xdata, data);"
      ]
    },
    {
      "cell_type": "markdown",
      "metadata": {
        "id": "VoEMzOkblX35"
      },
      "source": [
        "# Tick locators and formatters\n",
        "Each Axis has a tick locator and formatter that choose where along the Axis objects to put tick marks. A simple interface to this is set_xticks:"
      ]
    },
    {
      "cell_type": "code",
      "execution_count": null,
      "metadata": {
        "id": "9h02OMDplX35"
      },
      "outputs": [],
      "source": [
        "fig, axs = plt.subplots(2, 1, constrained_layout=True)\n",
        "axs[0].plot(xdata, data1)\n",
        "axs[0].set_title('Automatic ticks')\n",
        "\n",
        "axs[1].plot(xdata, data1)\n",
        "axs[1].set_xticks(np.arange(0, 100, 30))\n",
        "axs[1].set_yticks([-1.5, 0, 1.5])  # note that we don't need to specify labels\n",
        "axs[1].set_title('Manual ticks');"
      ]
    },
    {
      "cell_type": "markdown",
      "metadata": {
        "id": "7b3ZMQIGlX35"
      },
      "source": [
        "## Plotting dates and strings\n",
        "Matplotlib can handle plotting arrays of dates and arrays of strings, as well as floating point numbers. These get special locators and formatters as appropriate. For dates:"
      ]
    },
    {
      "cell_type": "code",
      "execution_count": null,
      "metadata": {
        "id": "m-sJiHDglX35"
      },
      "outputs": [],
      "source": [
        "import matplotlib\n",
        "fig, ax = plt.subplots(figsize=(5, 2.7), constrained_layout=True)\n",
        "dates = np.arange(np.datetime64('2021-11-15'), np.datetime64('2021-12-25'),\n",
        "                  np.timedelta64(1, 'h'))\n",
        "data = np.cumsum(np.random.randn(len(dates)))\n",
        "ax.plot(dates, data)\n",
        "cdf = matplotlib.dates.ConciseDateFormatter(ax.xaxis.get_major_locator())\n",
        "ax.xaxis.set_major_formatter(cdf);"
      ]
    },
    {
      "cell_type": "markdown",
      "metadata": {
        "id": "Qi6vZKALlX35"
      },
      "source": [
        "For strings, we get categorical plotting (see: Plotting categorical variables)."
      ]
    },
    {
      "cell_type": "code",
      "execution_count": null,
      "metadata": {
        "id": "rXiPsIrrlX37"
      },
      "outputs": [],
      "source": [
        "fig, ax = plt.subplots(figsize=(5, 2.7), constrained_layout=True)\n",
        "categories = ['turnips', 'rutabaga', 'cucumber', 'pumpkins']\n",
        "\n",
        "ax.bar(categories, np.random.rand(len(categories)));"
      ]
    },
    {
      "cell_type": "markdown",
      "metadata": {
        "id": "fHmksP7llX37"
      },
      "source": [
        "# Additional Axis objects\n",
        "Plotting data of different magnitude in one chart may require an additional y-axis. Such an Axis can be created by using twinx to add a new Axes with an invisible x-axis and a y-axis positioned at the right (analogously for twiny). See Plots with different scales for another example.\n",
        "\n",
        "Similarly, you can add a secondary_xaxis or secondary_yaxis having a different scale than the main Axis to represent the data in different scales or units. See Secondary Axis for further examples."
      ]
    },
    {
      "cell_type": "code",
      "execution_count": null,
      "metadata": {
        "id": "zLU6nuxklX37"
      },
      "outputs": [],
      "source": [
        "fig, (ax1, ax3) = plt.subplots(1, 2, figsize=(8, 2.7), constrained_layout=True)\n",
        "l1, = ax1.plot(t, s)\n",
        "ax2 = ax1.twinx()\n",
        "l2, = ax2.plot(t, range(len(t)), 'C1')\n",
        "ax2.legend([l1, l2], ['Sine (left)', 'Straight (right)'])\n",
        "\n",
        "ax3.plot(t, s)\n",
        "ax3.set_xlabel('Angle [°]')\n",
        "ax4 = ax3.secondary_xaxis('top', functions=(np.rad2deg, np.deg2rad))\n",
        "ax4.set_xlabel('Angle [rad]')"
      ]
    },
    {
      "cell_type": "markdown",
      "metadata": {
        "id": "d_umOJxOlX38"
      },
      "source": [
        "# Color mapped data\n",
        "Often we want to have a third dimension in a plot represented by a colors in a colormap. Matplotlib has a number of plot types that do this:"
      ]
    },
    {
      "cell_type": "code",
      "execution_count": null,
      "metadata": {
        "id": "AD8_wuz9lX38"
      },
      "outputs": [],
      "source": [
        "import matplotlib as mpl\n",
        "X, Y = np.meshgrid(np.linspace(-3, 3, 128), np.linspace(-3, 3, 128))\n",
        "Z = (1 - X/2 + X**5 + Y**3) * np.exp(-X**2 - Y**2)\n",
        "\n",
        "fig, axs = plt.subplots(2, 2, constrained_layout=True)\n",
        "pc = axs[0, 0].pcolormesh(X, Y, Z, vmin=-1, vmax=1, cmap='RdBu_r')\n",
        "fig.colorbar(pc, ax=axs[0, 0])\n",
        "axs[0, 0].set_title('pcolormesh()')\n",
        "\n",
        "co = axs[0, 1].contourf(X, Y, Z, levels=np.linspace(-1.25, 1.25, 11))\n",
        "fig.colorbar(co, ax=axs[0, 1])\n",
        "axs[0, 1].set_title('contourf()')\n",
        "\n",
        "pc = axs[1, 0].imshow(Z**2 * 100, cmap='plasma',\n",
        "                          norm=mpl.colors.LogNorm(vmin=0.01, vmax=100))\n",
        "fig.colorbar(pc, ax=axs[1, 0], extend='both')\n",
        "axs[1, 0].set_title('imshow() with LogNorm()')\n",
        "\n",
        "pc = axs[1, 1].scatter(data1, data2, c=data3, cmap='RdBu_r')\n",
        "fig.colorbar(pc, ax=axs[1, 1], extend='both')\n",
        "axs[1, 1].set_title('scatter()');"
      ]
    },
    {
      "cell_type": "markdown",
      "metadata": {
        "id": "oc8XplDGlX38"
      },
      "source": [
        "# Colormaps\n",
        "These are all examples of Artists that derive from ScalarMappable objects. They all can set a linear mapping between vmin and vmax into the colormap specified by cmap. Matplotlib has many colormaps to choose from (Choosing Colormaps in Matplotlib) you can make your own (Creating Colormaps in Matplotlib) or download as third-party packages.\n",
        "\n",
        "# Normalizations\n",
        "Sometimes we want a non-linear mapping of the data to the colormap, as in the LogNorm example above. We do this by supplying the ScalarMappable with the norm argument instead of vmin and vmax. More normalizations are shown at Colormap Normalization.\n",
        "\n",
        "# Colorbars\n",
        "Adding a colorbar gives a key to relate the color back to the underlying data. Colorbars are figure-level Artists, and are attached to a ScalarMappable (where they get their information about the norm and colormap) and usually steal space from a parent Axes. Placement of colorbars can be complex: see Placing Colorbars for details. You can also change the appearance of colorbars with the extend keyword to add arrows to the ends, and shrink and aspect to control the size. Finally, the colorbar will have default locators and formatters appropriate to the norm. These can be changed as for other Axis objects."
      ]
    },
    {
      "cell_type": "markdown",
      "metadata": {
        "id": "gKAldO2hlX39"
      },
      "source": [
        "# Pyplot tutorial\n",
        "An introduction to the pyplot interface.\n",
        "\n",
        "### Intro to pyplot\n",
        "matplotlib.pyplot is a collection of functions that make matplotlib work like MATLAB. Each pyplot function makes some change to a figure: e.g., creates a figure, creates a plotting area in a figure, plots some lines in a plotting area, decorates the plot with labels, etc.\n",
        "\n",
        "In matplotlib.pyplot various states are preserved across function calls, so that it keeps track of things like the current figure and plotting area, and the plotting functions are directed to the current axes (please note that \"axes\" here and in most places in the documentation refers to the axes part of a figure and not the strict mathematical term for more than one axis)."
      ]
    },
    {
      "cell_type": "code",
      "execution_count": null,
      "metadata": {
        "id": "uO2OEhAFlX39"
      },
      "outputs": [],
      "source": [
        "#Generating visualizations with pyplot is very quick:\n",
        "\n",
        "import matplotlib.pyplot as plt\n",
        "plt.plot([1, 2, 3, 4])\n",
        "plt.ylabel('some numbers')\n",
        "plt.show()"
      ]
    },
    {
      "cell_type": "markdown",
      "metadata": {
        "id": "uLnMLw0MlX39"
      },
      "source": [
        "You may be wondering why the x-axis ranges from 0-3 and the y-axis from 1-4. If you provide a single list or array to plot, matplotlib assumes it is a sequence of y values, and automatically generates the x values for you. Since python ranges start with 0, the default x vector has the same length as y but starts with 0. Hence the x data are [0, 1, 2, 3].\n",
        "\n",
        "plot is a versatile function, and will take an arbitrary number of arguments. For example, to plot x versus y, you can write:"
      ]
    },
    {
      "cell_type": "code",
      "execution_count": null,
      "metadata": {
        "id": "xYrXB2UclX39"
      },
      "outputs": [],
      "source": [
        "plt.plot([1, 2, 3, 4], [1, 4, 9, 16])"
      ]
    },
    {
      "cell_type": "markdown",
      "metadata": {
        "id": "euRCWIRtlX39"
      },
      "source": [
        "# Formatting the style of your plot\n",
        "For every x, y pair of arguments, there is an optional third argument which is the format string that indicates the color and line type of the plot. The letters and symbols of the format string are from MATLAB, and you concatenate a color string with a line style string. The default format string is 'b-', which is a solid blue line. For example, to plot the above with red circles, you would issue"
      ]
    },
    {
      "cell_type": "code",
      "execution_count": null,
      "metadata": {
        "id": "Hf2tYSmdlX39"
      },
      "outputs": [],
      "source": [
        "plt.plot([1, 2, 3, 4], [1, 4, 9, 16], 'ro')\n",
        "plt.axis([0, 6, 0, 20])\n",
        "plt.show()"
      ]
    },
    {
      "cell_type": "markdown",
      "metadata": {
        "id": "7CakZrN5lX3-"
      },
      "source": [
        "See the plot documentation for a complete list of line styles and format strings. The axis function in the example above takes a list of **[xmin, xmax, ymin, ymax]** and specifies the viewport of the axes.\n",
        "\n",
        "If matplotlib were limited to working with lists, it would be fairly useless for numeric processing. Generally, you will use numpy arrays. In fact, all sequences are converted to numpy arrays internally. The example below illustrates plotting several lines with different format styles in one function call using arrays."
      ]
    },
    {
      "cell_type": "code",
      "execution_count": null,
      "metadata": {
        "id": "1Fuo1owQlX3-"
      },
      "outputs": [],
      "source": [
        "import numpy as np\n",
        "\n",
        "# evenly sampled time at 200ms intervals\n",
        "t = np.arange(0., 5., 0.2)\n",
        "\n",
        "# red dashes, blue squares and green triangles\n",
        "plt.plot(t, t, 'r--', t, t**2, 'bs', t, t**3, 'g^')\n",
        "plt.show()"
      ]
    },
    {
      "cell_type": "markdown",
      "metadata": {
        "id": "gmQx2UCPlX3-"
      },
      "source": [
        "# Plotting with keyword strings\n",
        "There are some instances where you have data in a format that lets you access particular variables with strings. For example, with numpy.recarray or pandas.DataFrame.\n",
        "\n",
        "Matplotlib allows you provide such an object with the data keyword argument. If provided, then you may generate plots with the strings corresponding to these variables."
      ]
    },
    {
      "cell_type": "code",
      "execution_count": null,
      "metadata": {
        "id": "xnUuivJWlX3-"
      },
      "outputs": [],
      "source": [
        "data = {'a': np.arange(50),\n",
        "        'c': np.random.randint(0, 50, 50),\n",
        "        'd': np.random.randn(50)}\n",
        "data['b'] = data['a'] + 10 * np.random.randn(50)\n",
        "data['d'] = np.abs(data['d']) * 100\n",
        "\n",
        "plt.scatter('a', 'b', c='c', s='d', data=data)\n",
        "plt.xlabel('entry a')\n",
        "plt.ylabel('entry b')\n",
        "plt.show()"
      ]
    },
    {
      "cell_type": "markdown",
      "metadata": {
        "id": "GkTD8jVjlX3-"
      },
      "source": [
        "# Plotting with categorical variables\n",
        "It is also possible to create a plot using categorical variables. Matplotlib allows you to pass categorical variables directly to many plotting functions. For example:"
      ]
    },
    {
      "cell_type": "code",
      "execution_count": null,
      "metadata": {
        "id": "dChLxhBHlX3_"
      },
      "outputs": [],
      "source": [
        "names = ['group_a', 'group_b', 'group_c']\n",
        "values = [1, 10, 100]\n",
        "\n",
        "plt.figure(figsize=(9, 3))\n",
        "\n",
        "plt.subplot(131)\n",
        "plt.bar(names, values)\n",
        "plt.subplot(132)\n",
        "plt.scatter(names, values)\n",
        "plt.subplot(133)\n",
        "plt.plot(names, values)\n",
        "plt.suptitle('Categorical Plotting')\n",
        "plt.show()"
      ]
    },
    {
      "cell_type": "markdown",
      "metadata": {
        "id": "2ZBmNlu0lX3_"
      },
      "source": [
        "# Controlling line properties\n",
        "Lines have many attributes that you can set: linewidth, dash style, antialiased, etc; see matplotlib.lines.Line2D. There are several ways to set line properties\n",
        "\n",
        "1. Use keyword arguments:\n",
        "\n",
        "`plt.plot(x, y, linewidth=2.0)`\n",
        "\n",
        "2. Use the setter methods of a Line2D instance. plot returns a list of Line2D objects; e.g., line1, line2 = plot(x1, y1, x2, y2). In the code below we will suppose that we have only one line so that the list returned is of length 1. We use tuple unpacking with line, to get the first element of that list:\n",
        "\n",
        "`line, = plt.plot(x, y, '-')\n",
        "line.set_antialiased(False) # turn off antialiasing`\n",
        "\n",
        "3. Use setp. The example below uses a MATLAB-style function to set multiple properties on a list of lines. setp works transparently with a list of objects or a single object. You can either use python keyword arguments or MATLAB-style string/value pairs:\n",
        "\n",
        "`lines = plt.plot(x1, y1, x2, y2)\n",
        "#use keyword arguments\n",
        "plt.setp(lines, color='r', linewidth=2.0)\n",
        "#or MATLAB style string value pairs\n",
        "plt.setp(lines, 'color', 'r', 'linewidth', 2.0)`"
      ]
    },
    {
      "cell_type": "markdown",
      "metadata": {
        "id": "x9q2HK6rlX3_"
      },
      "source": [
        "# Working with multiple figures and axes\n",
        "MATLAB, and pyplot, have the concept of the current figure and the current axes. All plotting functions apply to the current axes. The function gca returns the current axes (a matplotlib.axes.Axes instance), and gcf returns the current figure (a matplotlib.figure.Figure instance). Normally, you don't have to worry about this, because it is all taken care of behind the scenes. Below is a script to create two subplots."
      ]
    },
    {
      "cell_type": "code",
      "execution_count": null,
      "metadata": {
        "id": "_LhjQ2pelX3_"
      },
      "outputs": [],
      "source": [
        "def f(t):\n",
        "    return np.exp(-t) * np.cos(2*np.pi*t)\n",
        "\n",
        "t1 = np.arange(0.0, 5.0, 0.1)\n",
        "t2 = np.arange(0.0, 5.0, 0.02)\n",
        "\n",
        "plt.figure()\n",
        "plt.subplot(211)\n",
        "plt.plot(t1, f(t1), 'bo', t2, f(t2), 'k')\n",
        "\n",
        "plt.subplot(212)\n",
        "plt.plot(t2, np.cos(2*np.pi*t2), 'r--')\n",
        "plt.show()"
      ]
    },
    {
      "cell_type": "markdown",
      "metadata": {
        "id": "3NQulR_6lX4A"
      },
      "source": [
        "You can create multiple figures by using multiple figure calls with an increasing figure number. Of course, each figure can contain as many axes and subplots as your heart desires:"
      ]
    },
    {
      "cell_type": "code",
      "execution_count": null,
      "metadata": {
        "id": "3xb3gMWNlX4A"
      },
      "outputs": [],
      "source": [
        "import matplotlib.pyplot as plt\n",
        "plt.figure(1)                # the first figure\n",
        "plt.subplot(211)             # the first subplot in the first figure\n",
        "plt.plot([1, 2, 3])\n",
        "plt.subplot(212)             # the second subplot in the first figure\n",
        "plt.plot([4, 5, 6])\n",
        "\n",
        "\n",
        "plt.figure(2)                # a second figure\n",
        "plt.plot([4, 5, 6])          # creates a subplot() by default\n",
        "\n",
        "plt.figure(1)                # figure 1 current; subplot(212) still current\n",
        "plt.subplot(211)             # make subplot(211) in figure1 current\n",
        "plt.title('Easy as 1, 2, 3') # subplot 211 title"
      ]
    },
    {
      "cell_type": "markdown",
      "metadata": {
        "id": "uEQo7t3HlX4A"
      },
      "source": [
        "# Working with text\n",
        "text can be used to add text in an arbitrary location, and xlabel, ylabel and title are used to add text in the indicated locations (see Text in Matplotlib Plots for a more detailed example)"
      ]
    },
    {
      "cell_type": "code",
      "execution_count": null,
      "metadata": {
        "id": "o3F5vr53lX4A"
      },
      "outputs": [],
      "source": [
        "mu, sigma = 100, 15\n",
        "x = mu + sigma * np.random.randn(10000)\n",
        "\n",
        "# the histogram of the data\n",
        "n, bins, patches = plt.hist(x, 50, density=1, facecolor='g', alpha=0.75)\n",
        "\n",
        "\n",
        "plt.xlabel('Smarts')\n",
        "plt.ylabel('Probability')\n",
        "plt.title('Histogram of IQ')\n",
        "plt.text(60, .025, r'$\\mu=100,\\ \\sigma=15$')\n",
        "plt.axis([40, 160, 0, 0.03])\n",
        "plt.grid(True)\n",
        "plt.show()"
      ]
    },
    {
      "cell_type": "markdown",
      "metadata": {
        "id": "Qoltx8TZlX4A"
      },
      "source": [
        "All of the text functions return a matplotlib.text.Text instance. Just as with lines above, you can customize the properties by passing keyword arguments into the text functions or using setp:"
      ]
    },
    {
      "cell_type": "code",
      "execution_count": null,
      "metadata": {
        "id": "axB36elblX4A"
      },
      "outputs": [],
      "source": [
        "t = plt.xlabel('my data', fontsize=14, color='red')"
      ]
    },
    {
      "cell_type": "markdown",
      "metadata": {
        "id": "6wdUxdZ7lX4B"
      },
      "source": [
        "# Using mathematical expressions in text\n",
        "matplotlib accepts TeX equation expressions in any text expression. For example to write the expression  in the title, you can write a TeX expression surrounded by dollar signs:"
      ]
    },
    {
      "cell_type": "code",
      "execution_count": null,
      "metadata": {
        "id": "NVg7IWMDlX4B"
      },
      "outputs": [],
      "source": [
        "plt.title(r'$\\sigma_i=15$')"
      ]
    },
    {
      "cell_type": "markdown",
      "metadata": {
        "id": "1TqsKDLglX4B"
      },
      "source": [
        "## Annotating text\n",
        "The uses of the basic text function above place text at an arbitrary position on the Axes. A common use for text is to annotate some feature of the plot, and the annotate method provides helper functionality to make annotations easy. In an annotation, there are two points to consider: the location being annotated represented by the argument xy and the location of the text xytext. Both of these arguments are (x, y) tuples.# "
      ]
    },
    {
      "cell_type": "code",
      "execution_count": null,
      "metadata": {
        "id": "_Dd9lgg5lX4B"
      },
      "outputs": [],
      "source": [
        "ax = plt.subplot()\n",
        "\n",
        "t = np.arange(0.0, 5.0, 0.01)\n",
        "s = np.cos(2*np.pi*t)\n",
        "line, = plt.plot(t, s, lw=2)\n",
        "\n",
        "plt.annotate('local max', xy=(2, 1), xytext=(3, 1.5),\n",
        "             arrowprops=dict(facecolor='black', shrink=0.05),\n",
        "             )\n",
        "\n",
        "plt.ylim(-2, 2)\n",
        "plt.show()"
      ]
    },
    {
      "cell_type": "markdown",
      "metadata": {
        "id": "3JRv6XTslX4C"
      },
      "source": [
        "## Logarithmic and other nonlinear axes\n",
        "matplotlib.pyplot supports not only linear axis scales, but also logarithmic and logit scales. This is commonly used if data spans many orders of magnitude. Changing the scale of an axis is easy:\n",
        "\n",
        "**plt.xscale('log')**\n",
        "\n",
        "An example of four plots with the same data and different scales for the y axis is shown below."
      ]
    },
    {
      "cell_type": "code",
      "execution_count": null,
      "metadata": {
        "id": "nAz69DHflX4C"
      },
      "outputs": [],
      "source": [
        "# Fixing random state for reproducibility\n",
        "np.random.seed(19680801)\n",
        "\n",
        "# make up some data in the open interval (0, 1)\n",
        "y = np.random.normal(loc=0.5, scale=0.4, size=1000)\n",
        "y = y[(y > 0) & (y < 1)]\n",
        "y.sort()\n",
        "x = np.arange(len(y))\n",
        "\n",
        "# plot with various axes scales\n",
        "plt.figure()\n",
        "\n",
        "# linear\n",
        "plt.subplot(221)\n",
        "plt.plot(x, y)\n",
        "plt.yscale('linear')\n",
        "plt.title('linear')\n",
        "plt.grid(True)\n",
        "\n",
        "# log\n",
        "plt.subplot(222)\n",
        "plt.plot(x, y)\n",
        "plt.yscale('log')\n",
        "plt.title('log')\n",
        "plt.grid(True)\n",
        "\n",
        "# symmetric log\n",
        "plt.subplot(223)\n",
        "plt.plot(x, y - y.mean())\n",
        "plt.yscale('symlog', linthresh=0.01)\n",
        "plt.title('symlog')\n",
        "plt.grid(True)\n",
        "\n",
        "# logit\n",
        "plt.subplot(224)\n",
        "plt.plot(x, y)\n",
        "plt.yscale('logit')\n",
        "plt.title('logit')\n",
        "plt.grid(True)\n",
        "# Adjust the subplot layout, because the logit one may take more space\n",
        "# than usual, due to y-tick labels like \"1 - 10^{-3}\"\n",
        "plt.subplots_adjust(top=0.92, bottom=0.08, left=0.10, right=0.95, hspace=0.25,\n",
        "                    wspace=0.35)\n",
        "\n",
        "plt.show()"
      ]
    },
    {
      "cell_type": "markdown",
      "metadata": {
        "id": "_-e3MfTglX4D"
      },
      "source": [
        "# Image tutorial\n",
        "A short tutorial on plotting images with Matplotlib.\n",
        "\n",
        "### Startup commands\n",
        "First, let's start IPython. It is a most excellent enhancement to the standard Python prompt, and it ties in especially well with Matplotlib. Start IPython either directly at a shell, or with the Jupyter Notebook (where IPython as a running kernel)."
      ]
    },
    {
      "cell_type": "code",
      "execution_count": null,
      "metadata": {
        "id": "xzHr-1WWlX4D"
      },
      "outputs": [],
      "source": [
        "%matplotlib inline\n",
        "import matplotlib.pyplot as plt\n",
        "import matplotlib.image as mpimg"
      ]
    },
    {
      "cell_type": "markdown",
      "metadata": {
        "id": "Imooj4mslX4D"
      },
      "source": [
        "## Importing image data into Numpy arrays\n",
        "Matplotlib relies on the Pillow library to load image data.\n",
        "\n",
        "Here's the image we're going to play with:\n",
        "\n",
        "![image.png](attachment:image.png)\n"
      ]
    },
    {
      "cell_type": "markdown",
      "metadata": {
        "id": "tB0v7i-LlX4D"
      },
      "source": [
        "It's a 24-bit RGB PNG image (8 bits for each of R, G, B). Depending on where you get your data, the other kinds of image that you'll most likely encounter are RGBA images, which allow for transparency, or single-channel grayscale (luminosity) images. Download stinkbug.png to your computer for the rest of this tutorial.\n",
        "\n",
        "And here we go..."
      ]
    },
    {
      "cell_type": "code",
      "execution_count": null,
      "metadata": {
        "id": "Lc_yTDHplX4D"
      },
      "outputs": [],
      "source": [
        "img = mpimg.imread('stinkbug.webp')\n",
        "print(img)"
      ]
    },
    {
      "cell_type": "markdown",
      "metadata": {
        "id": "SEJfA7PUlX4E"
      },
      "source": [
        "## Plotting numpy arrays as images\n",
        "So, you have your data in a numpy array (either by importing it, or by generating it). Let's render it. In Matplotlib, this is performed using the imshow() function. Here we'll grab the plot object. This object gives you an easy way to manipulate the plot from the prompt."
      ]
    },
    {
      "cell_type": "code",
      "execution_count": null,
      "metadata": {
        "id": "dHU4Fd6mlX4E"
      },
      "outputs": [],
      "source": [
        "imgplot = plt.imshow(img)"
      ]
    },
    {
      "cell_type": "markdown",
      "metadata": {
        "id": "hDiTkka-lX4E"
      },
      "source": [
        "You can also plot any numpy array."
      ]
    },
    {
      "cell_type": "markdown",
      "metadata": {
        "id": "09VKYcLflX4E"
      },
      "source": [
        "## Applying pseudocolor schemes to image plots\n",
        "Pseudocolor can be a useful tool for enhancing contrast and visualizing your data more easily. This is especially useful when making presentations of your data using projectors - their contrast is typically quite poor.\n",
        "\n",
        "Pseudocolor is only relevant to single-channel, grayscale, luminosity images. We currently have an RGB image. Since R, G, and B are all similar (see for yourself above or in your data), we can just pick one channel of our data:"
      ]
    },
    {
      "cell_type": "code",
      "execution_count": null,
      "metadata": {
        "id": "IlNHzSHplX4E"
      },
      "outputs": [],
      "source": [
        "lum_img = img[:, :, 0]\n",
        "plt.imshow(lum_img)"
      ]
    },
    {
      "cell_type": "markdown",
      "metadata": {
        "id": "xYnRbNp1lX4E"
      },
      "source": [
        "Now, with a luminosity (2D, no color) image, the default colormap (aka lookup table, LUT), is applied. The default is called viridis. There are plenty of others to choose from."
      ]
    },
    {
      "cell_type": "code",
      "execution_count": null,
      "metadata": {
        "id": "kn9YT7galX4E"
      },
      "outputs": [],
      "source": [
        "plt.imshow(lum_img, cmap=\"hot\")"
      ]
    },
    {
      "cell_type": "markdown",
      "metadata": {
        "id": "YKpi5S5alX4F"
      },
      "source": [
        "Note that you can also change colormaps on existing plot objects using the set_cmap() method:"
      ]
    },
    {
      "cell_type": "code",
      "execution_count": null,
      "metadata": {
        "id": "Swg8i7bjlX4F"
      },
      "outputs": [],
      "source": [
        "imgplot = plt.imshow(lum_img)\n",
        "imgplot.set_cmap('nipy_spectral')"
      ]
    },
    {
      "cell_type": "markdown",
      "metadata": {
        "id": "K5frW3T7lX4F"
      },
      "source": [
        "## Color scale reference\n",
        "It's helpful to have an idea of what value a color represents. We can do that by adding a color bar to your figure:"
      ]
    },
    {
      "cell_type": "code",
      "execution_count": null,
      "metadata": {
        "id": "u_J44eyblX4F"
      },
      "outputs": [],
      "source": [
        "imgplot = plt.imshow(lum_img)\n",
        "plt.colorbar()"
      ]
    },
    {
      "cell_type": "markdown",
      "metadata": {
        "id": "MQ768DYNlX4F"
      },
      "source": [
        "### Examining a specific data range\n",
        "Sometimes you want to enhance the contrast in your image, or expand the contrast in a particular region while sacrificing the detail in colors that don't vary much, or don't matter. A good tool to find interesting regions is the histogram. To create a histogram of our image data, we use the hist() function."
      ]
    },
    {
      "cell_type": "code",
      "execution_count": null,
      "metadata": {
        "id": "fiTFSI6HlX4F"
      },
      "outputs": [],
      "source": [
        "# alternative way to find histogram of an image\n",
        "plt.hist(lum_img.ravel(),256,[0,256])\n",
        "plt.show()"
      ]
    },
    {
      "cell_type": "markdown",
      "metadata": {
        "id": "G7bKIyollX4G"
      },
      "source": [
        "You can specify the clim in the call to plot."
      ]
    },
    {
      "cell_type": "code",
      "execution_count": null,
      "metadata": {
        "id": "pjAlrTuElX4G"
      },
      "outputs": [],
      "source": [
        "imgplot = plt.imshow(lum_img, clim=(0.0, 0.7))"
      ]
    },
    {
      "cell_type": "markdown",
      "metadata": {
        "id": "tKQ5-ldJlX4G"
      },
      "source": [
        "You can also specify the clim using the returned object"
      ]
    },
    {
      "cell_type": "code",
      "execution_count": null,
      "metadata": {
        "id": "JgddttIZlX4G"
      },
      "outputs": [],
      "source": [
        "fig = plt.figure()\n",
        "ax = fig.add_subplot(1, 2, 1)\n",
        "imgplot = plt.imshow(lum_img)\n",
        "ax.set_title('Before')\n",
        "plt.colorbar(ticks=[0.1, 0.3, 0.5, 0.7], orientation='horizontal')\n",
        "\n",
        "ax = fig.add_subplot(1, 2, 2)\n",
        "imgplot = plt.imshow(lum_img)\n",
        "imgplot.set_clim(0.0, 0.7)\n",
        "ax.set_title('After')\n",
        "plt.colorbar(ticks=[0.1, 0.3, 0.5, 0.7], orientation='horizontal')"
      ]
    },
    {
      "cell_type": "markdown",
      "metadata": {
        "id": "FD0cMo0WlX4G"
      },
      "source": [
        "## Array Interpolation schemes\n",
        "Interpolation calculates what the color or value of a pixel \"should\" be, according to different mathematical schemes. One common place that this happens is when you resize an image. The number of pixels change, but you want the same information. Since pixels are discrete, there's missing space. Interpolation is how you fill that space. This is why your images sometimes come out looking pixelated when you blow them up. The effect is more pronounced when the difference between the original image and the expanded image is greater. Let's take our image and shrink it. We're effectively discarding pixels, only keeping a select few. Now when we plot it, that data gets blown up to the size on your screen. The old pixels aren't there anymore, and the computer has to draw in pixels to fill that space.\n",
        "\n",
        "We'll use the Pillow library that we used to load the image also to resize the image."
      ]
    },
    {
      "cell_type": "code",
      "execution_count": null,
      "metadata": {
        "id": "WgWe_r2alX4G"
      },
      "outputs": [],
      "source": [
        "from PIL import Image\n",
        "\n",
        "img = Image.open('stinkbug.webp')\n",
        "img.thumbnail((64, 64), Image.ANTIALIAS)  # resizes image in-place\n",
        "imgplot = plt.imshow(img)"
      ]
    },
    {
      "cell_type": "markdown",
      "metadata": {
        "id": "YHqCzMjwlX4H"
      },
      "source": [
        "Here we have the default interpolation, bilinear, since we did not give imshow() any interpolation argument.\n",
        "\n",
        "Let's try some others. Here's \"nearest\", which does no interpolation."
      ]
    },
    {
      "cell_type": "code",
      "execution_count": null,
      "metadata": {
        "id": "p-x5RMMPlX4H"
      },
      "outputs": [],
      "source": [
        "imgplot = plt.imshow(img, interpolation=\"nearest\")"
      ]
    },
    {
      "cell_type": "markdown",
      "metadata": {
        "id": "lkwXDlzElX4H"
      },
      "source": [
        "and bicubic:"
      ]
    },
    {
      "cell_type": "code",
      "execution_count": null,
      "metadata": {
        "id": "NyV0beRtlX4H"
      },
      "outputs": [],
      "source": [
        "imgplot = plt.imshow(img, interpolation=\"bicubic\")"
      ]
    },
    {
      "cell_type": "markdown",
      "metadata": {
        "id": "ucrGIS_HlX4H"
      },
      "source": [
        "Bicubic interpolation is often used when blowing up photos - people tend to prefer blurry over pixelated."
      ]
    },
    {
      "cell_type": "markdown",
      "metadata": {
        "id": "OrBBB1HVlX4H"
      },
      "source": [
        "# The Lifecycle of a Plot\n",
        "This tutorial aims to show the beginning, middle, and end of a single visualization using Matplotlib. We'll begin with some raw data and end by saving a figure of a customized visualization. Along the way we try to highlight some neat features and best-practices using Matplotlib."
      ]
    },
    {
      "cell_type": "markdown",
      "metadata": {
        "id": "lKAi6mF-lX4I"
      },
      "source": [
        "A note on the Object-Oriented API vs. Pyplot\n",
        "Matplotlib has two interfaces. The first is an object-oriented (OO) interface. In this case, we utilize an instance of axes.Axes in order to render visualizations on an instance of figure.Figure.\n",
        "\n",
        "The second is based on MATLAB and uses a state-based interface. This is encapsulated in the pyplot module. See the pyplot tutorials for a more in-depth look at the pyplot interface.\n",
        "\n",
        "Most of the terms are straightforward but the main thing to remember is that:\n",
        "\n",
        "1. The Figure is the final image that may contain 1 or more Axes.\n",
        "\n",
        "2. The Axes represent an individual plot (don't confuse this with the word \"axis\", which refers to the x/y axis of a plot).\n",
        "\n",
        "We call methods that do the plotting directly from the Axes, which gives us much more flexibility and power in customizing our plot."
      ]
    },
    {
      "cell_type": "markdown",
      "metadata": {
        "id": "hqssGWiAlX4I"
      },
      "source": [
        "# Our data\n",
        "We'll use the data from the post from which this tutorial was derived. It contains sales information for a number of companies."
      ]
    },
    {
      "cell_type": "code",
      "execution_count": null,
      "metadata": {
        "id": "c0f8g-IJlX4I"
      },
      "outputs": [],
      "source": [
        "import numpy as np\n",
        "import matplotlib.pyplot as plt\n",
        "\n",
        "\n",
        "data = {'Barton LLC': 109438.50,\n",
        "        'Frami, Hills and Schmidt': 103569.59,\n",
        "        'Fritsch, Russel and Anderson': 112214.71,\n",
        "        'Jerde-Hilpert': 112591.43,\n",
        "        'Keeling LLC': 100934.30,\n",
        "        'Koepp Ltd': 103660.54,\n",
        "        'Kulas Inc': 137351.96,\n",
        "        'Trantow-Barrows': 123381.38,\n",
        "        'White-Trantow': 135841.99,\n",
        "        'Will LLC': 104437.60}\n",
        "group_data = list(data.values())\n",
        "group_names = list(data.keys())\n",
        "group_mean = np.mean(group_data)"
      ]
    },
    {
      "cell_type": "markdown",
      "metadata": {
        "id": "LWSOj8S0lX4I"
      },
      "source": [
        "## Getting started\n",
        "This data is naturally visualized as a barplot, with one bar per group. To do this with the object-oriented approach, we first generate an instance of figure.Figure and axes.Axes. The Figure is like a canvas, and the Axes is a part of that canvas on which we will make a particular visualization."
      ]
    },
    {
      "cell_type": "code",
      "execution_count": null,
      "metadata": {
        "id": "XN9E1tiBlX4K"
      },
      "outputs": [],
      "source": [
        "fig, ax = plt.subplots()"
      ]
    },
    {
      "cell_type": "markdown",
      "metadata": {
        "id": "3B0mEIjvlX4K"
      },
      "source": [
        "Now that we have an Axes instance, we can plot on top of it."
      ]
    },
    {
      "cell_type": "code",
      "execution_count": null,
      "metadata": {
        "id": "KaSxHdEKlX4K"
      },
      "outputs": [],
      "source": [
        "fig, ax = plt.subplots()\n",
        "ax.barh(group_names, group_data)"
      ]
    },
    {
      "cell_type": "markdown",
      "metadata": {
        "id": "MjlsbMHnlX4K"
      },
      "source": [
        "## Controlling the style\n",
        "There are many styles available in Matplotlib in order to let you tailor your visualization to your needs. To see a list of styles, we can use style."
      ]
    },
    {
      "cell_type": "code",
      "execution_count": null,
      "metadata": {
        "id": "O4pvLBl4lX4K"
      },
      "outputs": [],
      "source": [
        "print(plt.style.available)"
      ]
    },
    {
      "cell_type": "markdown",
      "metadata": {
        "id": "khCAwAjjlX4L"
      },
      "source": [
        "You can activate a style with the following:"
      ]
    },
    {
      "cell_type": "code",
      "execution_count": null,
      "metadata": {
        "id": "cAl9VA8AlX4L"
      },
      "outputs": [],
      "source": [
        "plt.style.use('fivethirtyeight')"
      ]
    },
    {
      "cell_type": "markdown",
      "metadata": {
        "id": "Dd3ovoq9lX4L"
      },
      "source": [
        "Now let's remake the above plot to see how it looks:"
      ]
    },
    {
      "cell_type": "code",
      "execution_count": null,
      "metadata": {
        "id": "3JV4eEoNlX4L"
      },
      "outputs": [],
      "source": [
        "fig, ax = plt.subplots()\n",
        "ax.barh(group_names, group_data)"
      ]
    },
    {
      "cell_type": "markdown",
      "metadata": {
        "id": "j97U4a_hlX4L"
      },
      "source": [
        "The style controls many things, such as color, linewidths, backgrounds, etc."
      ]
    },
    {
      "cell_type": "markdown",
      "metadata": {
        "id": "0tnarnU9lX4L"
      },
      "source": [
        "## Customizing the plot\n",
        "Now we've got a plot with the general look that we want, so let's fine-tune it so that it's ready for print. First let's rotate the labels on the x-axis so that they show up more clearly. We can gain access to these labels with the axes.Axes.get_xticklabels() method:"
      ]
    },
    {
      "cell_type": "code",
      "execution_count": null,
      "metadata": {
        "id": "YjMLiRwxlX4L"
      },
      "outputs": [],
      "source": [
        "fig, ax = plt.subplots()\n",
        "ax.barh(group_names, group_data)\n",
        "labels = ax.get_xticklabels()"
      ]
    },
    {
      "cell_type": "markdown",
      "metadata": {
        "id": "LaZjOdjelX4M"
      },
      "source": [
        "If we'd like to set the property of many items at once, it's useful to use the pyplot.setp() function. This will take a list (or many lists) of Matplotlib objects, and attempt to set some style element of each one."
      ]
    },
    {
      "cell_type": "code",
      "execution_count": null,
      "metadata": {
        "id": "OJDjY_TXlX4M"
      },
      "outputs": [],
      "source": [
        "fig, ax = plt.subplots()\n",
        "ax.barh(group_names, group_data)\n",
        "labels = ax.get_xticklabels()\n",
        "plt.setp(labels, rotation=45, horizontalalignment='right')"
      ]
    },
    {
      "cell_type": "markdown",
      "metadata": {
        "id": "nKPPsI_qlX4M"
      },
      "source": [
        "It looks like this cut off some of the labels on the bottom. We can tell Matplotlib to automatically make room for elements in the figures that we create. To do this we set the autolayout value of our rcParams. For more information on controlling the style, layout, and other features of plots with rcParams, see Customizing Matplotlib with style sheets and rcParams."
      ]
    },
    {
      "cell_type": "code",
      "execution_count": null,
      "metadata": {
        "id": "C8YMjlI5lX4M"
      },
      "outputs": [],
      "source": [
        "plt.rcParams.update({'figure.autolayout': True})\n",
        "\n",
        "fig, ax = plt.subplots()\n",
        "ax.barh(group_names, group_data)\n",
        "labels = ax.get_xticklabels()\n",
        "plt.setp(labels, rotation=45, horizontalalignment='right')"
      ]
    },
    {
      "cell_type": "markdown",
      "metadata": {
        "id": "ufbalQYqlX4M"
      },
      "source": [
        "Next, we add labels to the plot. To do this with the OO interface, we can use the Artist.set() method to set properties of this Axes object."
      ]
    },
    {
      "cell_type": "code",
      "execution_count": null,
      "metadata": {
        "id": "RaJ8CuERlX4M"
      },
      "outputs": [],
      "source": [
        "fig, ax = plt.subplots()\n",
        "ax.barh(group_names, group_data)\n",
        "labels = ax.get_xticklabels()\n",
        "plt.setp(labels, rotation=45, horizontalalignment='right')\n",
        "ax.set(xlim=[-10000, 140000], xlabel='Total Revenue', ylabel='Company',\n",
        "       title='Company Revenue')"
      ]
    },
    {
      "cell_type": "markdown",
      "metadata": {
        "id": "VGur1yDwlX4N"
      },
      "source": [
        "We can also adjust the size of this plot using the pyplot.subplots() function. We can do this with the figsize keyword argument."
      ]
    },
    {
      "cell_type": "code",
      "execution_count": null,
      "metadata": {
        "id": "mWPzdeXwlX4N"
      },
      "outputs": [],
      "source": [
        "fig, ax = plt.subplots(figsize=(8, 4))\n",
        "ax.barh(group_names, group_data)\n",
        "labels = ax.get_xticklabels()\n",
        "plt.setp(labels, rotation=45, horizontalalignment='right')\n",
        "ax.set(xlim=[-10000, 140000], xlabel='Total Revenue', ylabel='Company',\n",
        "       title='Company Revenue')"
      ]
    },
    {
      "cell_type": "markdown",
      "metadata": {
        "id": "WUOlmIkAlX4N"
      },
      "source": [
        "For labels, we can specify custom formatting guidelines in the form of functions. Below we define a function that takes an integer as input, and returns a string as an output. When used with Axis.set_major_formatter or Axis.set_minor_formatter, they will automatically create and use a ticker.FuncFormatter class.\n",
        "\n",
        "For this function, the x argument is the original tick label and pos is the tick position. We will only use x here but both arguments are needed."
      ]
    },
    {
      "cell_type": "code",
      "execution_count": null,
      "metadata": {
        "id": "1JKyULsglX4N"
      },
      "outputs": [],
      "source": [
        "def currency(x, pos):\n",
        "    \"\"\"The two arguments are the value and tick position\"\"\"\n",
        "    if x >= 1e6:\n",
        "        s = '${:1.1f}M'.format(x*1e-6)\n",
        "    else:\n",
        "        s = '${:1.0f}K'.format(x*1e-3)\n",
        "    return s"
      ]
    },
    {
      "cell_type": "markdown",
      "metadata": {
        "id": "EOz-cIUNlX4N"
      },
      "source": [
        "We can then apply this function to the labels on our plot. To do this, we use the xaxis attribute of our axes. This lets you perform actions on a specific axis on our plot."
      ]
    },
    {
      "cell_type": "code",
      "execution_count": null,
      "metadata": {
        "id": "KIHZaCcQlX4N"
      },
      "outputs": [],
      "source": [
        "fig, ax = plt.subplots(figsize=(6, 8))\n",
        "ax.barh(group_names, group_data)\n",
        "labels = ax.get_xticklabels()\n",
        "plt.setp(labels, rotation=45, horizontalalignment='right')\n",
        "\n",
        "ax.set(xlim=[-10000, 140000], xlabel='Total Revenue', ylabel='Company',\n",
        "       title='Company Revenue')\n",
        "ax.xaxis.set_major_formatter(currency)"
      ]
    },
    {
      "cell_type": "markdown",
      "metadata": {
        "id": "ubw9KqT3lX4N"
      },
      "source": [
        "## Combining multiple visualizations\n",
        "It is possible to draw multiple plot elements on the same instance of axes.Axes. To do this we simply need to call another one of the plot methods on that axes object."
      ]
    },
    {
      "cell_type": "code",
      "execution_count": null,
      "metadata": {
        "id": "Au0Mh5CqlX4O"
      },
      "outputs": [],
      "source": [
        "fig, ax = plt.subplots(figsize=(8, 8))\n",
        "ax.barh(group_names, group_data)\n",
        "labels = ax.get_xticklabels()\n",
        "plt.setp(labels, rotation=45, horizontalalignment='right')\n",
        "\n",
        "# Add a vertical line, here we set the style in the function call\n",
        "ax.axvline(group_mean, ls='--', color='r')\n",
        "\n",
        "# Annotate new companies\n",
        "for group in [3, 5, 8]:\n",
        "    ax.text(145000, group, \"New Company\", fontsize=10,\n",
        "            verticalalignment=\"center\")\n",
        "\n",
        "# Now we move our title up since it's getting a little cramped\n",
        "ax.title.set(y=1.05)\n",
        "\n",
        "ax.set(xlim=[-10000, 140000], xlabel='Total Revenue', ylabel='Company',\n",
        "       title='Company Revenue')\n",
        "ax.xaxis.set_major_formatter(currency)\n",
        "ax.set_xticks([0, 25e3, 50e3, 75e3, 100e3, 125e3])\n",
        "fig.subplots_adjust(right=.1)\n",
        "\n",
        "plt.show()"
      ]
    },
    {
      "cell_type": "markdown",
      "metadata": {
        "id": "aubA3qNvlX4O"
      },
      "source": [
        "## Saving our plot\n",
        "Now that we're happy with the outcome of our plot, we want to save it to disk. There are many file formats we can save to in Matplotlib. To see a list of available options, use:"
      ]
    },
    {
      "cell_type": "code",
      "execution_count": null,
      "metadata": {
        "id": "RrgDDCVilX4O"
      },
      "outputs": [],
      "source": [
        "print(fig.canvas.get_supported_filetypes())"
      ]
    },
    {
      "cell_type": "markdown",
      "metadata": {
        "id": "46XmpZIklX4O"
      },
      "source": [
        "# Customizing Matplotlib with style sheets and rcParams\n",
        "Tips for customizing the properties and default styles of Matplotlib.\n",
        "\n",
        "There are three ways to customize Matplotlib:\n",
        "\n",
        "1. Setting rcParams at runtime.\n",
        "\n",
        "2. Using style sheets.\n",
        "\n",
        "3. Changing your matplotlibrc file.\n",
        "\n",
        "Setting rcParams at runtime takes precedence over style sheets, style sheets take precedence over matplotlibrc files.\n",
        "\n",
        "## Runtime rc settings\n",
        "You can dynamically change the default rc (runtime configuration) settings in a python script or interactively from the python shell. All rc settings are stored in a dictionary-like variable called matplotlib.rcParams, which is global to the matplotlib package. See matplotlib.rcParams for a full list of configurable rcParams. rcParams can be modified directly, for example:"
      ]
    },
    {
      "cell_type": "code",
      "execution_count": null,
      "metadata": {
        "id": "G1ENWcTolX4O"
      },
      "outputs": [],
      "source": [
        "import numpy as np\n",
        "import matplotlib.pyplot as plt\n",
        "import matplotlib as mpl\n",
        "from cycler import cycler\n",
        "mpl.rcParams['lines.linewidth'] = 2\n",
        "mpl.rcParams['lines.linestyle'] = '--'\n",
        "data = np.random.randn(50)\n",
        "plt.plot(data)"
      ]
    },
    {
      "cell_type": "markdown",
      "metadata": {
        "id": "fASPghJdlX4O"
      },
      "source": [
        "Note, that in order to change the usual plot color you have to change the prop_cycle property of axes:"
      ]
    },
    {
      "cell_type": "code",
      "execution_count": null,
      "metadata": {
        "id": "f7V8fG9RlX4O"
      },
      "outputs": [],
      "source": [
        "mpl.rcParams['axes.prop_cycle'] = cycler(color=['r', 'g', 'b', 'y'])\n",
        "plt.plot(data)  # first color is red"
      ]
    },
    {
      "cell_type": "markdown",
      "metadata": {
        "id": "3no3dOjolX4P"
      },
      "source": [
        "Matplotlib also provides a couple of convenience functions for modifying rc settings. matplotlib.rc can be used to modify multiple settings in a single group at once, using keyword arguments:"
      ]
    },
    {
      "cell_type": "code",
      "execution_count": null,
      "metadata": {
        "id": "4CQQ9PYNlX4P"
      },
      "outputs": [],
      "source": [
        "mpl.rc('lines', linewidth=4, linestyle='-.')\n",
        "plt.plot(data)"
      ]
    },
    {
      "cell_type": "markdown",
      "metadata": {
        "id": "ETM5C6crlX4P"
      },
      "source": [
        "## Temporary rc settings\n",
        "The matplotlib.rcParams object can also be changed temporarily using the matplotlib.rc_context context manager:"
      ]
    },
    {
      "cell_type": "code",
      "execution_count": null,
      "metadata": {
        "id": "_HCllzkulX4P"
      },
      "outputs": [],
      "source": [
        "with mpl.rc_context({'lines.linewidth': 2, 'lines.linestyle': ':'}):\n",
        "    plt.plot(data)"
      ]
    },
    {
      "cell_type": "markdown",
      "metadata": {
        "id": "m9utYdbGlX4P"
      },
      "source": [
        "matplotlib.rc_context can also be used as a decorator to modify the defaults within a function:"
      ]
    },
    {
      "cell_type": "code",
      "execution_count": null,
      "metadata": {
        "id": "OIaL_GJVlX4Q"
      },
      "outputs": [],
      "source": [
        "@mpl.rc_context({'lines.linewidth': 3, 'lines.linestyle': '-'})\n",
        "def plotting_function():\n",
        "    plt.plot(data)\n",
        "\n",
        "plotting_function()"
      ]
    },
    {
      "cell_type": "markdown",
      "metadata": {
        "id": "NZ0oGipilX4R"
      },
      "source": [
        "matplotlib.rcdefaults will restore the standard Matplotlib default settings.\n",
        "\n",
        "There is some degree of validation when setting the values of rcParams, see matplotlib.rcsetup for details."
      ]
    },
    {
      "cell_type": "markdown",
      "metadata": {
        "id": "G4wAjomklX4R"
      },
      "source": [
        "## Using style sheets¶\n",
        "There are a number of pre-defined styles provided by Matplotlib. For example, there's a pre-defined style called \"ggplot\", which emulates the aesthetics of ggplot (a popular plotting package for R). To use this style, add:"
      ]
    },
    {
      "cell_type": "code",
      "execution_count": null,
      "metadata": {
        "id": "KD3Xg5OclX4R"
      },
      "outputs": [],
      "source": [
        "plt.style.use('ggplot')"
      ]
    },
    {
      "cell_type": "markdown",
      "metadata": {
        "id": "J4EDo2EzlX4R"
      },
      "source": [
        "To list all available styles, use:"
      ]
    },
    {
      "cell_type": "code",
      "execution_count": null,
      "metadata": {
        "id": "sul3wZExlX4R"
      },
      "outputs": [],
      "source": [
        "print(plt.style.available)"
      ]
    },
    {
      "cell_type": "markdown",
      "metadata": {
        "id": "nyq_kjemlX4R"
      },
      "source": [
        "## Temporary styling\n",
        "If you only want to use a style for a specific block of code but don't want to change the global styling, the style package provides a context manager for limiting your changes to a specific scope. To isolate your styling changes, you can write something like the following:"
      ]
    },
    {
      "cell_type": "code",
      "execution_count": null,
      "metadata": {
        "id": "q-IhevwqlX4S"
      },
      "outputs": [],
      "source": [
        "with plt.style.context('dark_background'):\n",
        "    plt.plot(np.sin(np.linspace(0, 2 * np.pi)), 'r-o')\n",
        "plt.show()"
      ]
    },
    {
      "cell_type": "markdown",
      "metadata": {
        "id": "DmlVTAMwk0dM"
      },
      "source": [
        "[Go to Top](#0)"
      ]
    }
  ],
  "metadata": {
    "colab": {
      "collapsed_sections": [
        "Mnush0fwk0dE",
        "jWOazhhMk0dE",
        "TtWgjQi_k0dF",
        "eE_oEwDJk0dG",
        "4q0I6bJyk0dG",
        "C0IU_PEnk0dH",
        "qQ5BlKq1k0dH",
        "hjxfJgWrk0dI",
        "RlJOAYfok0dI",
        "dAQiiy61k0dK",
        "9zec8bt2k0dK",
        "A7Vt6FL0lX3w",
        "e4LVpRRslX3x",
        "QrrhsQ44lX3x",
        "ZqdQ7Va0lX3y",
        "7mMLGUvnlX3y",
        "qb34_UiClX3z",
        "knD7LwWalX3z",
        "znBPRX8tlX30",
        "3HIboIztlX31",
        "XI09a8xglX31",
        "gmuIoY78lX32",
        "XbwBiprSlX32",
        "Ss-PL3jXlX33",
        "d7h4sav7lX33",
        "4Df98GxslX33",
        "9weh0aYKlX34",
        "ReHy_TU3lX34",
        "VoEMzOkblX35",
        "7b3ZMQIGlX35",
        "fHmksP7llX37",
        "d_umOJxOlX38",
        "oc8XplDGlX38",
        "euRCWIRtlX39",
        "gmQx2UCPlX3-",
        "GkTD8jVjlX3-",
        "2ZBmNlu0lX3_",
        "x9q2HK6rlX3_",
        "uEQo7t3HlX4A",
        "6wdUxdZ7lX4B",
        "1TqsKDLglX4B",
        "3JRv6XTslX4C",
        "_-e3MfTglX4D",
        "Imooj4mslX4D",
        "SEJfA7PUlX4E",
        "09VKYcLflX4E",
        "K5frW3T7lX4F",
        "MQ768DYNlX4F",
        "FD0cMo0WlX4G",
        "OrBBB1HVlX4H",
        "LWSOj8S0lX4I",
        "MjlsbMHnlX4K",
        "0tnarnU9lX4L",
        "ubw9KqT3lX4N",
        "aubA3qNvlX4O",
        "46XmpZIklX4O",
        "ETM5C6crlX4P",
        "G4wAjomklX4R",
        "nyq_kjemlX4R"
      ],
      "name": "Matplotlib_M7_.ipynb",
      "provenance": [],
      "include_colab_link": true
    },
    "kernelspec": {
      "display_name": "Python 3",
      "language": "python",
      "name": "python3"
    },
    "language_info": {
      "codemirror_mode": {
        "name": "ipython",
        "version": 3
      },
      "file_extension": ".py",
      "mimetype": "text/x-python",
      "name": "python",
      "nbconvert_exporter": "python",
      "pygments_lexer": "ipython3",
      "version": "3.8.8"
    }
  },
  "nbformat": 4,
  "nbformat_minor": 0
}